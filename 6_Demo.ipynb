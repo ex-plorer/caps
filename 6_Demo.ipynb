{
 "cells": [
  {
   "cell_type": "code",
   "execution_count": 2,
   "metadata": {
    "collapsed": true
   },
   "outputs": [],
   "source": [
    "import plotly\n",
    "import plotly.plotly as py\n",
    "import pandas as pd\n",
    "import numpy as np\n",
    "import plotly.graph_objs as go\n",
    "import os"
   ]
  },
  {
   "cell_type": "markdown",
   "metadata": {},
   "source": [
    "**Descriptive Analysis**"
   ]
  },
  {
   "cell_type": "code",
   "execution_count": 2,
   "metadata": {
    "collapsed": false
   },
   "outputs": [
    {
     "data": {
      "text/html": [
       "<iframe id=\"igraph\" scrolling=\"no\" style=\"border:none;\" seamless=\"seamless\" src=\"https://plot.ly/~baojinjiji/73.embed\" height=\"525px\" width=\"100%\"></iframe>"
      ],
      "text/plain": [
       "<plotly.tools.PlotlyDisplay object>"
      ]
     },
     "execution_count": 2,
     "metadata": {},
     "output_type": "execute_result"
    }
   ],
   "source": [
    "# Plot Customers Household Number\n",
    "\n",
    "df = pd.read_csv('company_sales_hh_cust_36.csv')\n",
    "\n",
    "trace1 = go.Scatter(\n",
    "    x=df['month'],\n",
    "    y=df['Electronics'],\n",
    "    mode = 'lines',\n",
    "    line = dict(width=0.5, color='rgb(184,247,212)'),\n",
    "    fill ='tonexty',\n",
    "    name = 'Electronics'\n",
    ")\n",
    "trace2 = go.Scatter(\n",
    "    x=df['month'],\n",
    "    y=df['Entertainment'],\n",
    "    mode = 'lines',\n",
    "    line = dict(width=0.5, color='rgb(111,231,219)'),\n",
    "    fill = 'tonexty',\n",
    "    name = 'Entertainment'\n",
    ")\n",
    "trace3 = go.Scatter(\n",
    "    x=df['month'],\n",
    "    y=df['Fashion'],\n",
    "    mode = 'lines',\n",
    "    line = dict(width=0.5, color='rgb(167,166,238)'),\n",
    "    fill ='tonexty',\n",
    "    name = 'Fashion'\n",
    ")\n",
    "trace4 = go.Scatter(\n",
    "    x=df['month'],\n",
    "    y=df['Food & Entertaining'],\n",
    "    mode = 'lines',\n",
    "    line = dict(width=0.5, color='rgb(71,190,241)'),\n",
    "    fill = 'tonexty',\n",
    "    name = 'Food & Entertaining'\n",
    ")\n",
    "trace5 = go.Scatter(\n",
    "    x=df['month'],\n",
    "    y=df['Health & Beauty'],\n",
    "    mode = 'lines',\n",
    "    line = dict(width=0.5, color='rgb(124,247,212)'),\n",
    "    fill ='tonexty',\n",
    "    name = 'Health & Beauty'\n",
    ")\n",
    "trace6 = go.Scatter(\n",
    "    x=df['month'],\n",
    "    y=df['Home & Garden'],\n",
    "    mode = 'lines',\n",
    "    line = dict(width=0.5, color='rgb(51,231,219)'),\n",
    "    fill = 'tonexty',\n",
    "    name = 'Home & Garden'\n",
    ")\n",
    "trace7 = go.Scatter(\n",
    "    x=df['month'],\n",
    "    y=df['Kids & Baby'],\n",
    "    mode = 'lines',\n",
    "    line = dict(width=0.5, color='rgb(67,166,238)'),\n",
    "    fill = 'tonexty',\n",
    "    name = 'Kids & Baby'\n",
    ")\n",
    "trace8 = go.Scatter(\n",
    "    x=df['month'],\n",
    "    y=df['Teens'],\n",
    "    mode = 'lines',\n",
    "    line = dict(width=0.5, color='rgb(71,90,241)'),\n",
    "    fill = 'tonexty',\n",
    "    name = 'Teens'\n",
    ")\n",
    "trace9 = go.Scatter(\n",
    "    x=df['month'],\n",
    "    y=df['Travel & Sports'],\n",
    "    mode = 'lines',\n",
    "    line = dict(width=0.5, color='rgb(127,166,118)'),\n",
    "    fill = 'tonexty',\n",
    "    name = 'Travel & Sports'\n",
    ")\n",
    "trace10 = go.Scatter(\n",
    "    x=df['month'],\n",
    "    y=df['Others'],\n",
    "    mode = 'lines',\n",
    "    line = dict(width=0.5, color='rgb(131,90,121)'),\n",
    "    fill = 'tonexty',\n",
    "    name = 'Others'\n",
    ")\n",
    "\n",
    "data = [trace1, trace2, trace3, trace4, trace5, trace6, trace7, trace8, trace9, trace10]\n",
    "layout = go.Layout(showlegend=True, xaxis=dict(type='category'), yaxis=dict(type='linear'))\n",
    "fig = go.Figure(data=data, layout=layout)\n",
    "py.iplot(fig,filename='Customer Number by Area')"
   ]
  },
  {
   "cell_type": "code",
   "execution_count": 3,
   "metadata": {
    "collapsed": false
   },
   "outputs": [
    {
     "data": {
      "text/html": [
       "<iframe id=\"igraph\" scrolling=\"no\" style=\"border:none;\" seamless=\"seamless\" src=\"https://plot.ly/~baojinjiji/75.embed\" height=\"525px\" width=\"100%\"></iframe>"
      ],
      "text/plain": [
       "<plotly.tools.PlotlyDisplay object>"
      ]
     },
     "execution_count": 3,
     "metadata": {},
     "output_type": "execute_result"
    }
   ],
   "source": [
    "# Plot Household Monthly Spending\n",
    "\n",
    "df1 = pd.read_csv('company_sales_revenue_36.csv')\n",
    "\n",
    "trace1 = go.Scatter(\n",
    "    x=df1['month'],\n",
    "    y=df1['1'],\n",
    "    mode = 'lines',\n",
    "    line = dict(width=0.5, color='rgb(184,247,212)'),\n",
    "    fill ='tonexty',\n",
    "    name = 'Electronics'\n",
    ")\n",
    "trace2 = go.Scatter(\n",
    "    x=df1['month'],\n",
    "    y=df1['1']+df1['2'],\n",
    "    mode = 'lines',\n",
    "    line = dict(width=0.5, color='rgb(111,231,219)'),\n",
    "    fill = 'tonexty',\n",
    "    name = 'Entertainment'\n",
    ")\n",
    "trace3 = go.Scatter(\n",
    "    x=df1['month'],\n",
    "    y=df1['1']+df1['2']+df1['3'],\n",
    "    mode = 'lines',\n",
    "    line = dict(width=0.5, color='rgb(127,166,238)'),\n",
    "    fill = 'tonexty',\n",
    "    name = 'Fashion'\n",
    ")\n",
    "trace4 = go.Scatter(\n",
    "    x=df1['month'],\n",
    "    y=df1['1']+df1['2']+df1['3']+df1['4'],\n",
    "    mode = 'lines',\n",
    "    line = dict(width=0.5, color='rgb(131,90,241)'),\n",
    "    fill = 'tonexty',\n",
    "    name = 'Food & Entertaining'\n",
    ")\n",
    "trace5 = go.Scatter(\n",
    "    x=df1['month'],\n",
    "    y=df1['1']+df1['2']+df1['3']+df1['4']+df1['5'],\n",
    "    mode = 'lines',\n",
    "    line = dict(width=0.5, color='rgb(124,247,112)'),\n",
    "    fill ='tonexty',\n",
    "    name = 'Health & Beauty'\n",
    ")\n",
    "trace6 = go.Scatter(\n",
    "    x=df1['month'],\n",
    "    y=df1['1']+df1['2']+df1['3']+df1['4']+df1['5']+df1['6'],\n",
    "    mode = 'lines',\n",
    "    line = dict(width=0.5, color='rgb(51,231,119)'),\n",
    "    fill = 'tonexty',\n",
    "    name = 'Home & Garden'\n",
    ")\n",
    "trace7 = go.Scatter(\n",
    "    x=df1['month'],\n",
    "    y=df1['1']+df1['2']+df1['3']+df1['4']+df1['5']+df1['6']+df1['7'],\n",
    "    mode = 'lines',\n",
    "    line = dict(width=0.5, color='rgb(67,166,138)'),\n",
    "    fill = 'tonexty',\n",
    "    name = 'Kids & Baby'\n",
    ")\n",
    "trace8 = go.Scatter(\n",
    "    x=df1['month'],\n",
    "    y=df1['1']+df1['2']+df1['3']+df1['4']+df1['5']+df1['6']+df1['7']+df1['8'],\n",
    "    mode = 'lines',\n",
    "    line = dict(width=0.5, color='rgb(71,90,141)'),\n",
    "    fill = 'tonexty',\n",
    "    name = 'Teens'\n",
    ")\n",
    "trace9 = go.Scatter(\n",
    "    x=df1['month'],\n",
    "    y=df1['1']+df1['2']+df1['3']+df1['4']+df1['5']+df1['6']+df1['7']+df1['8']+df1['9'],\n",
    "    mode = 'lines',\n",
    "    line = dict(width=0.5, color='rgb(227,166,118)'),\n",
    "    fill = 'tonexty',\n",
    "    name = 'Travel & Sports'\n",
    ")\n",
    "trace10 = go.Scatter(\n",
    "    x=df1['month'],\n",
    "    y=df1['1']+df1['2']+df1['3']+df1['4']+df1['5']+df1['6']+df1['7']+df1['8']+df1['9']+df1['10'],\n",
    "    mode = 'lines',\n",
    "    line = dict(width=0.5, color='rgb(231,90,121)'),\n",
    "    fill = 'tonexty',\n",
    "    name = 'Others'\n",
    ")\n",
    "\n",
    "data = [trace1, trace2, trace3, trace4, trace5, trace6, trace7, trace8, trace9, trace10]\n",
    "layout = go.Layout(showlegend=True, xaxis=dict(type='category'), yaxis=dict(type='linear'))\n",
    "fig = go.Figure(data=data, layout=layout)\n",
    "py.iplot(fig,filename='Revenue by Area')"
   ]
  },
  {
   "cell_type": "code",
   "execution_count": 4,
   "metadata": {
    "collapsed": false
   },
   "outputs": [
    {
     "data": {
      "text/html": [
       "<iframe id=\"igraph\" scrolling=\"no\" style=\"border:none;\" seamless=\"seamless\" src=\"https://plot.ly/~baojinjiji/77.embed\" height=\"110px\" width=\"2500px\"></iframe>"
      ],
      "text/plain": [
       "<plotly.tools.PlotlyDisplay object>"
      ]
     },
     "execution_count": 4,
     "metadata": {},
     "output_type": "execute_result"
    }
   ],
   "source": [
    "#Revenue Sources by Product Areas\n",
    "area = pd.read_csv('company_area_percentage.csv')\n",
    "category = pd.read_csv('company_category_percentage.csv')\n",
    "\n",
    "table = ff.create_table(area.loc[area['CompanyID']==36])\n",
    "table.layout.width = 2500\n",
    "py.iplot(table, filename='Product Areas')"
   ]
  },
  {
   "cell_type": "code",
   "execution_count": 5,
   "metadata": {
    "collapsed": false
   },
   "outputs": [
    {
     "data": {
      "text/html": [
       "<iframe id=\"igraph\" scrolling=\"no\" style=\"border:none;\" seamless=\"seamless\" src=\"https://plot.ly/~baojinjiji/79.embed\" height=\"110px\" width=\"20000px\"></iframe>"
      ],
      "text/plain": [
       "<plotly.tools.PlotlyDisplay object>"
      ]
     },
     "execution_count": 5,
     "metadata": {},
     "output_type": "execute_result"
    }
   ],
   "source": [
    "#Revenue Sources by Major Categories\n",
    "table1 = ff.create_table(category.loc[category['CompanyID']==36])\n",
    "table1.layout.width = 20000\n",
    "py.iplot(table1, filename='Major Categories')"
   ]
  },
  {
   "cell_type": "code",
   "execution_count": 6,
   "metadata": {
    "collapsed": false
   },
   "outputs": [
    {
     "data": {
      "text/html": [
       "<iframe id=\"igraph\" scrolling=\"no\" style=\"border:none;\" seamless=\"seamless\" src=\"https://plot.ly/~baojinjiji/101.embed\" height=\"525px\" width=\"100%\"></iframe>"
      ],
      "text/plain": [
       "<plotly.tools.PlotlyDisplay object>"
      ]
     },
     "execution_count": 6,
     "metadata": {},
     "output_type": "execute_result"
    }
   ],
   "source": [
    "# Plot Household Spending by Area - Top 100 Households in each area\n",
    "\n",
    "pa1 = pd.read_csv(\"F:/AY16-17 Sem2/BT4221/Project/hhhhhh/3.popularity of hh by spending/hh_spending_area_1_Electronics.csv\")\n",
    "pa2 = pd.read_csv(\"F:/AY16-17 Sem2/BT4221/Project/hhhhhh/3.popularity of hh by spending/hh_spending_area_2_Entertainment.csv\")\n",
    "pa3 = pd.read_csv(\"F:/AY16-17 Sem2/BT4221/Project/hhhhhh/3.popularity of hh by spending/hh_spending_area_3_Fashion.csv\")\n",
    "pa4 = pd.read_csv(\"F:/AY16-17 Sem2/BT4221/Project/hhhhhh/3.popularity of hh by spending/hh_spending_area_4_FoodEntertaining.csv\")\n",
    "pa5 = pd.read_csv(\"F:/AY16-17 Sem2/BT4221/Project/hhhhhh/3.popularity of hh by spending/hh_spending_area_5_HealthBeauty.csv\")\n",
    "pa6 = pd.read_csv(\"F:/AY16-17 Sem2/BT4221/Project/hhhhhh/3.popularity of hh by spending/hh_spending_area_6_HomeGarden.csv\")\n",
    "pa7 = pd.read_csv(\"F:/AY16-17 Sem2/BT4221/Project/hhhhhh/3.popularity of hh by spending/hh_spending_area_7_KidsBaby.csv\")\n",
    "pa8 = pd.read_csv(\"F:/AY16-17 Sem2/BT4221/Project/hhhhhh/3.popularity of hh by spending/hh_spending_area_8_Teens.csv\")\n",
    "pa9 = pd.read_csv(\"F:/AY16-17 Sem2/BT4221/Project/hhhhhh/3.popularity of hh by spending/hh_spending_area_9_TravelSports.csv\")\n",
    "pa10 = pd.read_csv(\"F:/AY16-17 Sem2/BT4221/Project/hhhhhh/3.popularity of hh by spending/hh_spending_area_10_Miscellaneous.csv\")\n",
    "\n",
    "\n",
    "from plotly.graph_objs import *\n",
    "X = list(range(100))\n",
    "electronics = pa1.iloc[:99]\n",
    "entertainment = pa2.iloc[:99]\n",
    "fashion = pa3.iloc[:99]\n",
    "foodentertaining = pa4.iloc[:99]\n",
    "healthbeauty = pa5.iloc[:99]\n",
    "homegarden = pa6.iloc[:99]\n",
    "kidsbaby = pa7.iloc[:99]\n",
    "teens = pa8.iloc[:99]\n",
    "travelsports = pa9.iloc[:99]\n",
    "others = pa10.iloc[:99]\n",
    "\n",
    "trace1 = Scatter(\n",
    "    x=X, y=electronics['Dollars'],\n",
    "    line=Line(\n",
    "        color='F7B8B8',\n",
    "        width=3\n",
    "    ),\n",
    "    opacity = 0.66,\n",
    "    name='Electronics',\n",
    "    text = electronics['HH_ID']\n",
    ")\n",
    "\n",
    "trace2 = Scatter(\n",
    "    x=X, y=entertainment['Dollars'],\n",
    "    line=Line(\n",
    "        color='E7D06F)',\n",
    "        width=3\n",
    "    ),\n",
    "    opacity = 0.66,\n",
    "    name='Entertainment',\n",
    "    text = entertainment['HH_ID']\n",
    ")\n",
    "\n",
    "trace3 = Scatter(\n",
    "    x=X, y=fashion['Dollars'],\n",
    "    line=Line(\n",
    "        color='B1EAEF',\n",
    "        width=3\n",
    "    ),\n",
    "    opacity = 0.66,\n",
    "    name='Fashion',\n",
    "    text = fashion['HH_ID']\n",
    ")\n",
    "\n",
    "trace4 = Scatter(\n",
    "    x=X, y=foodentertaining['Dollars'],\n",
    "    line=Line(\n",
    "        color='C3BADA',\n",
    "        width=4\n",
    "    ),\n",
    "    opacity = 0.66,\n",
    "    name='Food & Entertaining',\n",
    "    text = foodentertaining['HH_ID']\n",
    ")\n",
    "\n",
    "trace5 = Scatter(\n",
    "    x=X, y=healthbeauty['Dollars'],\n",
    "    line=Line(\n",
    "        color='B4DDAF)',\n",
    "        width=4\n",
    "    ),\n",
    "    opacity = 0.66,\n",
    "    name='Health & Beauty',\n",
    "    text = healthbeauty['HH_ID']\n",
    ")\n",
    "\n",
    "trace6 = Scatter(\n",
    "    x=X, y=homegarden['Dollars'],\n",
    "    line=Line(\n",
    "        color='FF7FA5',\n",
    "        width=4\n",
    "    ),\n",
    "    opacity = 0.66,\n",
    "    name='Home & Garden',\n",
    "    text = homegarden['HH_ID']\n",
    ")\n",
    "\n",
    "trace7 = Scatter(\n",
    "    x=X, y=kidsbaby['Dollars'],\n",
    "    line=Line(\n",
    "        color='7FAEE2',\n",
    "        width=4\n",
    "    ),\n",
    "    opacity = 0.66,\n",
    "    name='Kids & Baby',\n",
    "    text = kidsbaby['HH_ID']\n",
    ")\n",
    "\n",
    "trace8 = Scatter(\n",
    "    x=X, y=teens['Dollars'],\n",
    "    line=Line(\n",
    "        color='E79A06',\n",
    "        width=4\n",
    "    ),\n",
    "    opacity = 0.66,\n",
    "    name='Teens',\n",
    "    text = teens['HH_ID']\n",
    ")\n",
    "\n",
    "trace9 = Scatter(\n",
    "    x=X, y=travelsports['Dollars'],\n",
    "    line=Line(\n",
    "        color='9276E3',\n",
    "        width=4\n",
    "    ),\n",
    "    opacity = 0.66,\n",
    "    name='Travel & Sports',\n",
    "    text = travelsports['HH_ID']\n",
    ")\n",
    "\n",
    "trace10 = Scatter(\n",
    "    x=X, y=others['Dollars'],\n",
    "    line=Line(\n",
    "        color='B0ADB0',\n",
    "        width=4\n",
    "    ),\n",
    "    opacity = 0.66,\n",
    "    name='Miscellaneous',\n",
    "    text = others['HH_ID']\n",
    ")\n",
    "\n",
    "\n",
    "data = Data([trace1, trace2, trace3, trace4, trace5, trace6, trace7, trace8, trace9, trace10])\n",
    "layout = Layout(\n",
    "    title='Top Household Spending by Area',\n",
    "    updatemenus=list([\n",
    "        dict(\n",
    "            x=-0.05,\n",
    "            y=1,\n",
    "            yanchor='top',\n",
    "            buttons=list([\n",
    "                dict(\n",
    "                    args=['visible', [True, True, True, True, True, True, True, True, True, True]],\n",
    "                    label='All',\n",
    "                    method='restyle'\n",
    "                ),\n",
    "                dict(\n",
    "                    args=['visible', [True, False, False, False, False, False, False, False, False, False]],\n",
    "                    label='Electronics',\n",
    "                    method='restyle'\n",
    "                ),\n",
    "                dict(\n",
    "                    args=['visible', [False, True, False, False, False, False, False, False, False, False]],\n",
    "                    label='Entertainment',\n",
    "                    method='restyle'\n",
    "                ),\n",
    "                dict(\n",
    "                    args=['visible', [False, False, True, False, False, False, False, False, False, False]],\n",
    "                    label='Fashion',\n",
    "                    method='restyle'\n",
    "                ),\n",
    "                dict(\n",
    "                    args=['visible', [False, False, False, True, False, False, False, False, False, False]],\n",
    "                    label='Food & Entertaining',\n",
    "                    method='restyle'\n",
    "                ),\n",
    "                dict(\n",
    "                    args=['visible', [False, False, False, False, True, False, False, False, False, False]],\n",
    "                    label='Health & Beauty',\n",
    "                    method='restyle'\n",
    "                ),\n",
    "                dict(\n",
    "                    args=['visible', [False, False, False, False, False, True, False, False, False, False]],\n",
    "                    label='Home & Garden',\n",
    "                    method='restyle'\n",
    "                ),\n",
    "                dict(\n",
    "                    args=['visible', [False, False, False, False, False, False, True, False, False, False]],\n",
    "                    label='Kids & Baby',\n",
    "                    method='restyle'\n",
    "                ),\n",
    "                dict(\n",
    "                    args=['visible', [False, False, False, False, False, False, False, True, False, False]],\n",
    "                    label='Teens',\n",
    "                    method='restyle'\n",
    "                ),\n",
    "                dict(\n",
    "                    args=['visible', [False, False, False, False, False, False, False, False, True, False]],\n",
    "                    label='Travel & Sports',\n",
    "                    method='restyle'\n",
    "                ),\n",
    "                dict(\n",
    "                    args=['visible', [False, False, False, False, False, False, False, False, False, True]],\n",
    "                    label='Miscellaneous',\n",
    "                    method='restyle'\n",
    "                )\n",
    "            ]),\n",
    "        )\n",
    "    ]),\n",
    ")\n",
    "fig = Figure(data=data, layout=layout)\n",
    "py.iplot(fig)"
   ]
  },
  {
   "cell_type": "code",
   "execution_count": 7,
   "metadata": {
    "collapsed": false
   },
   "outputs": [
    {
     "data": {
      "text/html": [
       "<iframe id=\"igraph\" scrolling=\"no\" style=\"border:none;\" seamless=\"seamless\" src=\"https://plot.ly/~baojinjiji/103.embed\" height=\"525px\" width=\"100%\"></iframe>"
      ],
      "text/plain": [
       "<plotly.tools.PlotlyDisplay object>"
      ]
     },
     "execution_count": 7,
     "metadata": {},
     "output_type": "execute_result"
    }
   ],
   "source": [
    "#Plot Revenue Sources by Product Area for company36\n",
    "values = area.loc[area['CompanyID']==36].as_matrix()[0][1:]\n",
    "labels = list(area)[1:]\n",
    "fig = {\"data\": [{\n",
    "        \"values\": values,\n",
    "        \"labels\": labels,\n",
    "    \n",
    "        \"domain\": {\"x\": [0,5]},\n",
    "        \"name\": \"Product Areas\",\n",
    "        \"hoverinfo\": \"label+percent+name\",\n",
    "        \"hole\": .4,\n",
    "        \"type\": \"pie\"\n",
    "}    \n",
    "],\n",
    "      \"layout\": {\n",
    "          \"title\": \"Company Products Composition\",\n",
    "          \"annotations\": [\n",
    "          {\n",
    "                \"font\": {\n",
    "                    \"size\": 20\n",
    "                },\n",
    "                \"showarrow\": False,\n",
    "                \"text\": \"AREA\",\n",
    "                \"x\": 0.5,\n",
    "                \"y\": 0.5\n",
    "            }]\n",
    "      }}\n",
    "py.iplot(fig)"
   ]
  },
  {
   "cell_type": "code",
   "execution_count": 8,
   "metadata": {
    "collapsed": false
   },
   "outputs": [
    {
     "data": {
      "text/html": [
       "<iframe id=\"igraph\" scrolling=\"no\" style=\"border:none;\" seamless=\"seamless\" src=\"https://plot.ly/~baojinjiji/105.embed\" height=\"525px\" width=\"100%\"></iframe>"
      ],
      "text/plain": [
       "<plotly.tools.PlotlyDisplay object>"
      ]
     },
     "execution_count": 8,
     "metadata": {},
     "output_type": "execute_result"
    }
   ],
   "source": [
    "#Plot Revenue Sources by Major Categories for company36\n",
    "values = category.loc[category['CompanyID']==36].as_matrix()[0][1:]\n",
    "labels = list(category)[1:]\n",
    "fig = {\"data\": [{\n",
    "        \"values\": values,\n",
    "        \"labels\": labels,\n",
    "    \n",
    "        \"domain\": {\"x\": [0,5]},\n",
    "        \"name\": \"Major Categories\",\n",
    "        \"hoverinfo\": \"label+percent+name\",\n",
    "        \"hole\": .4,\n",
    "        \"type\": \"pie\"\n",
    "}    \n",
    "],\n",
    "      \"layout\": {\n",
    "          \"title\": \"Company Products Composition\",\n",
    "          \"annotations\": [\n",
    "          {\n",
    "                \"font\": {\n",
    "                    \"size\": 20\n",
    "                },\n",
    "                \"showarrow\": False,\n",
    "                \"text\": \"CATEGORY\",\n",
    "                \"x\": 0.5,\n",
    "                \"y\": 0.5\n",
    "            }]\n",
    "      }}\n",
    "py.iplot(fig)"
   ]
  },
  {
   "cell_type": "markdown",
   "metadata": {},
   "source": [
    "**Recommender Based On Collaborative Filtering Algorithms**"
   ]
  },
  {
   "cell_type": "code",
   "execution_count": 3,
   "metadata": {
    "collapsed": false
   },
   "outputs": [],
   "source": [
    "#Load Result Files\n",
    "summary_actual_with_mean_cf_basics_cocluster_dol_log= pd.read_csv(\"F:/AY16-17 Sem2/BT4221/Project/A2_Data_CF_new/summary_actual_with_mean_cf_basics_cocluster_dol_log.csv\")\n",
    "summary_actual_with_mean_cf_basics_knn_dol_log= pd.read_csv(\"F:/AY16-17 Sem2/BT4221/Project/A2_Data_CF_new/summary_actual_with_mean_cf_basics_knn_dol_log.csv\")\n",
    "summary_actual_with_mean_cf_basics_svd_dol_log= pd.read_csv(\"F:/AY16-17 Sem2/BT4221/Project/A2_Data_CF_new/summary_actual_with_mean_cf_basics_svd_dol_log.csv\")\n",
    "\n",
    "summary_actual_with_mean_cf_basics_cocluster_dol_logscale= pd.read_csv(\"F:/AY16-17 Sem2/BT4221/Project/A2_Data_CF_new/summary_actual_with_mean_cf_basics_cocluster_dol_logscale_.csv\")\n",
    "summary_actual_with_mean_cf_basics_knn_dol_logscale= pd.read_csv(\"F:/AY16-17 Sem2/BT4221/Project/A2_Data_CF_new/summary_actual_with_mean_cf_basics_knn_dol_logscale_.csv\")\n",
    "summary_actual_with_mean_cf_basics_svd_dol_logscale= pd.read_csv(\"F:/AY16-17 Sem2/BT4221/Project/A2_Data_CF_new/summary_actual_with_mean_cf_basics_svd_dol_logscale_.csv\")\n",
    "\n",
    "summary_with_mean_cf_basics_knn_dol= pd.read_csv(\"F:/AY16-17 Sem2/BT4221/Project/A2_Data_CF_new/summary_with_mean_cf_basics_knn_dol.csv\")\n",
    "summary_with_mean_cf_basics_svd_dol= pd.read_csv(\"F:/AY16-17 Sem2/BT4221/Project/A2_Data_CF_new/summary_with_mean_cf_basics_svd_dol.csv\")\n",
    "summary_with_mean_cf_basics_cocluster_dol= pd.read_csv(\"F:/AY16-17 Sem2/BT4221/Project/A2_Data_CF_new/summary_with_mean_cf_basics_cocluster_dol.csv\")\n",
    "\n",
    "summary_actual_with_mean_cf_basics_cocluster_dol_scale= pd.read_csv(\"F:/AY16-17 Sem2/BT4221/Project/A2_Data_CF_new/summary_actual_with_mean_cf_basics_cocluster_dolscale_.csv\")\n",
    "summary_actual_with_mean_cf_basics_knn_dol_scale= pd.read_csv(\"F:/AY16-17 Sem2/BT4221/Project/A2_Data_CF_new/summary_actual_with_mean_cf_basics_knn_dolscale_.csv\")\n",
    "summary_actual_with_mean_cf_basics_svd_dol_scale= pd.read_csv(\"F:/AY16-17 Sem2/BT4221/Project/A2_Data_CF_new/summary_actual_with_mean_cf_basics_svd_dolscale_.csv\")"
   ]
  },
  {
   "cell_type": "code",
   "execution_count": 4,
   "metadata": {
    "collapsed": false
   },
   "outputs": [
    {
     "data": {
      "text/html": [
       "<iframe id=\"igraph\" scrolling=\"no\" style=\"border:none;\" seamless=\"seamless\" src=\"https://plot.ly/~isakyaki2121/150.embed\" height=\"525px\" width=\"100%\"></iframe>"
      ],
      "text/plain": [
       "<plotly.tools.PlotlyDisplay object>"
      ]
     },
     "execution_count": 4,
     "metadata": {},
     "output_type": "execute_result"
    }
   ],
   "source": [
    "#Plot Actual Mean Revenue trend of different algorithms for each decile ranked by _dol\n",
    "trace1 = go.Scatter(\n",
    "    x = summary_with_mean_cf_basics_knn_dol['percentile'],\n",
    "    y = summary_with_mean_cf_basics_knn_dol['ActualRevenueMean'],\n",
    "    name = 'knn_dol'\n",
    ")\n",
    "trace2 = go.Scatter(\n",
    "    x = summary_with_mean_cf_basics_svd_dol['percentile'],\n",
    "    y = summary_with_mean_cf_basics_svd_dol['ActualRevenueMean'],\n",
    "    name = 'svd_dol'\n",
    ")\n",
    "\n",
    "trace3 = go.Scatter(\n",
    "    x = summary_with_mean_cf_basics_cocluster_dol['percentile'],\n",
    "    y = summary_with_mean_cf_basics_cocluster_dol['ActualRevenueMean'],\n",
    "    name = 'cocluster_dol'\n",
    ")\n",
    "\n",
    "data = [trace1, trace2, trace3]\n",
    "\n",
    "layout = dict(\n",
    "              xaxis = dict(title = 'Top n percentile of predicted households ranked by score predicted'),\n",
    "              yaxis = dict(title = 'Actual Mean Revenue'),\n",
    "              )\n",
    "\n",
    "fig = dict(data=data, layout=layout)\n",
    "py.iplot(fig, filename='revenue_diff_measures')"
   ]
  },
  {
   "cell_type": "code",
   "execution_count": 5,
   "metadata": {
    "collapsed": false
   },
   "outputs": [
    {
     "data": {
      "text/html": [
       "<iframe id=\"igraph\" scrolling=\"no\" style=\"border:none;\" seamless=\"seamless\" src=\"https://plot.ly/~isakyaki2121/122.embed\" height=\"525px\" width=\"100%\"></iframe>"
      ],
      "text/plain": [
       "<plotly.tools.PlotlyDisplay object>"
      ]
     },
     "execution_count": 5,
     "metadata": {},
     "output_type": "execute_result"
    }
   ],
   "source": [
    "#Plot Actual Mean Revenue trend of different algorithms for each decile ranked by _dol_log\n",
    "trace4 = go.Scatter(\n",
    "    x = summary_actual_with_mean_cf_basics_knn_dol_log['percentile'],\n",
    "    y = summary_actual_with_mean_cf_basics_knn_dol_log['ActualRevenueMean'],\n",
    "    name = 'knn_dol_log'\n",
    ")\n",
    "trace5 = go.Scatter(\n",
    "    x = summary_actual_with_mean_cf_basics_svd_dol_log['percentile'],\n",
    "    y = summary_actual_with_mean_cf_basics_svd_dol_log['ActualRevenueMean'],\n",
    "    name = 'svd_dol_log'\n",
    ")\n",
    "trace6 = go.Scatter(\n",
    "    x = summary_actual_with_mean_cf_basics_cocluster_dol_log['percentile'],\n",
    "    y = summary_actual_with_mean_cf_basics_cocluster_dol_log['ActualRevenueMean'],\n",
    "    name = 'cocluster_dol_log'\n",
    ")\n",
    "\n",
    "\n",
    "data = [trace4, trace5, trace6]\n",
    "\n",
    "layout = dict(\n",
    "              xaxis = dict(title = 'Top n percentile of predicted households ranked by score predicted'),\n",
    "              yaxis = dict(title = 'Actual Mean Revenue'),\n",
    "              )\n",
    "\n",
    "fig = dict(data=data, layout=layout)\n",
    "py.iplot(fig, filename='log_revenue_diff_measures')"
   ]
  },
  {
   "cell_type": "code",
   "execution_count": 23,
   "metadata": {
    "collapsed": false
   },
   "outputs": [
    {
     "data": {
      "text/html": [
       "<iframe id=\"igraph\" scrolling=\"no\" style=\"border:none;\" seamless=\"seamless\" src=\"https://plot.ly/~isakyaki2121/124.embed\" height=\"525px\" width=\"100%\"></iframe>"
      ],
      "text/plain": [
       "<plotly.tools.PlotlyDisplay object>"
      ]
     },
     "execution_count": 23,
     "metadata": {},
     "output_type": "execute_result"
    }
   ],
   "source": [
    "#Plot Actual Mean Revenue trend of different algorithms for each decile ranked by _dol_scale\n",
    "trace7 = go.Scatter(\n",
    "    x = summary_actual_with_mean_cf_basics_knn_dol_scale['percentile'],\n",
    "    y = summary_actual_with_mean_cf_basics_knn_dol_scale['ActualRevenueMean'],\n",
    "    name = 'knn_dol_scale'\n",
    ")\n",
    "trace8 = go.Scatter(\n",
    "    x = summary_actual_with_mean_cf_basics_svd_dol_scale['percentile'],\n",
    "    y = summary_actual_with_mean_cf_basics_svd_dol_scale['ActualRevenueMean'],\n",
    "    name = 'svd_dol_scale'\n",
    ")\n",
    "\n",
    "trace9 = go.Scatter(\n",
    "    x = summary_actual_with_mean_cf_basics_cocluster_dol_scale['percentile'],\n",
    "    y = summary_actual_with_mean_cf_basics_cocluster_dol_scale['ActualRevenueMean'],\n",
    "    name = 'cocluster_dol_scale'\n",
    ")\n",
    "\n",
    "data = [trace7, trace8, trace9]\n",
    "\n",
    "layout = dict(\n",
    "              xaxis = dict(title = 'Top n percentile of predicted households ranked by score predicted'),\n",
    "              yaxis = dict(title = 'Actual Mean Revenue'),\n",
    "              )\n",
    "\n",
    "fig = dict(data=data, layout=layout)\n",
    "py.iplot(fig, filename='scale_revenue_diff_measures')"
   ]
  },
  {
   "cell_type": "code",
   "execution_count": 24,
   "metadata": {
    "collapsed": false
   },
   "outputs": [
    {
     "data": {
      "text/html": [
       "<iframe id=\"igraph\" scrolling=\"no\" style=\"border:none;\" seamless=\"seamless\" src=\"https://plot.ly/~isakyaki2121/160.embed\" height=\"525px\" width=\"100%\"></iframe>"
      ],
      "text/plain": [
       "<plotly.tools.PlotlyDisplay object>"
      ]
     },
     "execution_count": 24,
     "metadata": {},
     "output_type": "execute_result"
    }
   ],
   "source": [
    "#Plot Atual Mean Revenue trend of different algorithms for each decile ranked by _dol_log_scale\n",
    "trace10 = go.Scatter(\n",
    "    x = summary_actual_with_mean_cf_basics_knn_dol_logscale['percentile'],\n",
    "    y = summary_actual_with_mean_cf_basics_knn_dol_logscale['ActualRevenueMean'],\n",
    "    name = 'knn_dol_log_scale'\n",
    ")\n",
    "trace11 = go.Scatter(\n",
    "    x = summary_actual_with_mean_cf_basics_svd_dol_logscale['percentile'],\n",
    "    y = summary_actual_with_mean_cf_basics_svd_dol_logscale['ActualRevenueMean'],\n",
    "    name = 'svd_dol_log_scale'\n",
    ")\n",
    "trace12 = go.Scatter(\n",
    "    x = summary_actual_with_mean_cf_basics_cocluster_dol_logscale['percentile'],\n",
    "    y = summary_actual_with_mean_cf_basics_cocluster_dol_logscale['ActualRevenueMean'],\n",
    "    name = 'cocluster_dol_log_scale'\n",
    ")\n",
    "\n",
    "\n",
    "data = [trace10, trace11, trace12]\n",
    "\n",
    "layout = dict(\n",
    "              xaxis = dict(title = 'Top n percentile of predicted households ranked by score predicted'),\n",
    "              yaxis = dict(title = 'Actual Mean Revenue'),\n",
    "              )\n",
    "\n",
    "fig = dict(data=data, layout=layout)\n",
    "py.iplot(fig, filename='log_scale_revenue_diff_measures')"
   ]
  },
  {
   "cell_type": "code",
   "execution_count": 8,
   "metadata": {
    "collapsed": false
   },
   "outputs": [
    {
     "data": {
      "text/html": [
       "<iframe id=\"igraph\" scrolling=\"no\" style=\"border:none;\" seamless=\"seamless\" src=\"https://plot.ly/~isakyaki2121/126.embed\" height=\"525px\" width=\"100%\"></iframe>"
      ],
      "text/plain": [
       "<plotly.tools.PlotlyDisplay object>"
      ]
     },
     "execution_count": 8,
     "metadata": {},
     "output_type": "execute_result"
    }
   ],
   "source": [
    "#Plot Actual Mean Revenue trend of knn for each decile ranked by different score types\n",
    "data_knn = [trace1, trace4, trace7, trace10]\n",
    "\n",
    "layout = dict(\n",
    "              xaxis = dict(title = 'Top n percentile of predicted households ranked by score predicted'),\n",
    "              yaxis = dict(title = 'Actual Mean Revenue'),\n",
    "              )\n",
    "\n",
    "fig = dict(data=data_knn, layout=layout)\n",
    "py.iplot(fig, filename='knn')"
   ]
  },
  {
   "cell_type": "code",
   "execution_count": 9,
   "metadata": {
    "collapsed": false
   },
   "outputs": [
    {
     "data": {
      "text/html": [
       "<iframe id=\"igraph\" scrolling=\"no\" style=\"border:none;\" seamless=\"seamless\" src=\"https://plot.ly/~isakyaki2121/128.embed\" height=\"525px\" width=\"100%\"></iframe>"
      ],
      "text/plain": [
       "<plotly.tools.PlotlyDisplay object>"
      ]
     },
     "execution_count": 9,
     "metadata": {},
     "output_type": "execute_result"
    }
   ],
   "source": [
    "#Plot Actual Mean Revenue trend of svd for each decile ranked by different score types\n",
    "data_svd = [trace2, trace5, trace8, trace11]\n",
    "\n",
    "layout = dict(\n",
    "              xaxis = dict(title = 'Top n percentile of predicted households ranked by score predicted'),\n",
    "              yaxis = dict(title = 'Actual Mean Revenue'),\n",
    "              )\n",
    "\n",
    "fig = dict(data=data_svd, layout=layout)\n",
    "py.iplot(fig, filename='svd')"
   ]
  },
  {
   "cell_type": "code",
   "execution_count": 10,
   "metadata": {
    "collapsed": false
   },
   "outputs": [
    {
     "data": {
      "text/html": [
       "<iframe id=\"igraph\" scrolling=\"no\" style=\"border:none;\" seamless=\"seamless\" src=\"https://plot.ly/~isakyaki2121/130.embed\" height=\"525px\" width=\"100%\"></iframe>"
      ],
      "text/plain": [
       "<plotly.tools.PlotlyDisplay object>"
      ]
     },
     "execution_count": 10,
     "metadata": {},
     "output_type": "execute_result"
    }
   ],
   "source": [
    "#Plot Actual Mean Revenue trend of coclustering for each decile ranked by different score types\n",
    "data_cocluster = [trace3, trace6, trace9, trace12]\n",
    "\n",
    "layout = dict(\n",
    "              xaxis = dict(title = 'Top n percentile of predicted households ranked by score predicted'),\n",
    "              yaxis = dict(title = 'Actual Mean Revenue'),\n",
    "              )\n",
    "\n",
    "fig = dict(data=data_cocluster, layout=layout)\n",
    "py.iplot(fig, filename='cocluster')"
   ]
  },
  {
   "cell_type": "markdown",
   "metadata": {},
   "source": [
    "## SVD"
   ]
  },
  {
   "cell_type": "code",
   "execution_count": 18,
   "metadata": {
    "collapsed": false
   },
   "outputs": [
    {
     "data": {
      "text/html": [
       "<iframe id=\"igraph\" scrolling=\"no\" style=\"border:none;\" seamless=\"seamless\" src=\"https://plot.ly/~isakyaki2121/144.embed\" height=\"525px\" width=\"100%\"></iframe>"
      ],
      "text/plain": [
       "<plotly.tools.PlotlyDisplay object>"
      ]
     },
     "execution_count": 18,
     "metadata": {},
     "output_type": "execute_result"
    }
   ],
   "source": [
    "#Plot Actual Mean Revenue trend of SVD for each decile ranked by different score types of revenue and number\n",
    "summary_cf_further_svd_dol = pd.read_csv(\"F:/AY16-17 Sem2/BT4221/Project/A5_lastmin/summary_cf_further_svd_dol.csv\")\n",
    "summary_cf_further_svd_dol_log = pd.read_csv(\"F:/AY16-17 Sem2/BT4221/Project/A5_lastmin/summary_cf_further_svd_dol_log.csv\")\n",
    "summary_cf_further_svd_num = pd.read_csv(\"F:/AY16-17 Sem2/BT4221/Project/A5_lastmin/summary_cf_further_svd_num.csv\")\n",
    "summary_cf_further_svd_num_log = pd.read_csv(\"F:/AY16-17 Sem2/BT4221/Project/A5_lastmin/summary_cf_further_svd_num_log.csv\")\n",
    "\n",
    "tracef1 = go.Scatter(\n",
    "    x = summary_cf_further_svd_dol['percentile'],\n",
    "    y = summary_cf_further_svd_dol['ActualRevenueMean'],\n",
    "    name = 'svd_dol'\n",
    ")\n",
    "tracef2 = go.Scatter(\n",
    "    x = summary_cf_further_svd_dol_log['percentile'],\n",
    "    y = summary_cf_further_svd_dol_log['ActualRevenueMean'],\n",
    "    name = 'svd_dol_log'\n",
    ")\n",
    "tracef3 = go.Scatter(\n",
    "    x = summary_cf_further_svd_num['percentile'],\n",
    "    y = summary_cf_further_svd_num['ActualRevenueMean'],\n",
    "    name = 'svd_num'\n",
    ")\n",
    "tracef4 = go.Scatter(\n",
    "    x = summary_cf_further_svd_num_log['percentile'],\n",
    "    y = summary_cf_further_svd_num_log['ActualRevenueMean'],\n",
    "    name = 'svd_num_log'\n",
    ")\n",
    "\n",
    "data = [tracef1, tracef2, tracef3, tracef4]\n",
    "\n",
    "layout = dict(\n",
    "              xaxis = dict(title = 'Top n percentile of predicted households ranked by score predicted'),\n",
    "              yaxis = dict(title = 'Actual Mean Revenue'),\n",
    "              )\n",
    "\n",
    "fig = dict(data=data, layout=layout)\n",
    "py.iplot(fig, filename='svd_further')"
   ]
  },
  {
   "cell_type": "code",
   "execution_count": null,
   "metadata": {
    "collapsed": true
   },
   "outputs": [],
   "source": []
  },
  {
   "cell_type": "markdown",
   "metadata": {},
   "source": [
    "## KNN"
   ]
  },
  {
   "cell_type": "code",
   "execution_count": 19,
   "metadata": {
    "collapsed": true
   },
   "outputs": [],
   "source": [
    "#Load result files for KNN\n",
    "import os\n",
    "path = 'F:/AY16-17 Sem2/BT4221/Project/A6_13lines'\n",
    "knnFiles = [f for f in os.listdir(path) if(\"summary_knn_company_36_\" in f)]"
   ]
  },
  {
   "cell_type": "code",
   "execution_count": 20,
   "metadata": {
    "collapsed": true
   },
   "outputs": [],
   "source": [
    "#Construct trace data\n",
    "list_ = []\n",
    "for file in knnFiles:\n",
    "    list_.append(pd.read_csv(path+\"/\"+file))\n",
    "\n",
    "data = []\n",
    "i = 0\n",
    "for file in list_:\n",
    "    trace = go.Scatter(x = file['percentile'],y = file['ActualRevenueMean'],name = knnFiles[i].replace(\"summary_knn_company_36_\",'').replace(\".csv\",''))\n",
    "    data.append(trace)\n",
    "    i+=1"
   ]
  },
  {
   "cell_type": "code",
   "execution_count": 21,
   "metadata": {
    "collapsed": true
   },
   "outputs": [],
   "source": [
    "#Construct the dropdown layout\n",
    "plot_list = []\n",
    "def boo_label (label):\n",
    "    if (label =='dol' or label=='num'):\n",
    "        list_bool = [((label in name)&(\"log\"not in name)) for name in knnFiles]\n",
    "    elif label =='pearson':\n",
    "        list_bool = [((label in name)&(\"baseline\"not in name)) for name in knnFiles]\n",
    "    else:\n",
    "        list_bool = [(label in name) for name in knnFiles]\n",
    "    return (list_bool)\n",
    "\n",
    "labels = [\"dol\", \"num\", \"dol_log\", \"num_log\", \"msd\",\"cosine\",\"pearson\",\"pearson_baseline\"]\n",
    "for label in labels:\n",
    "    plot_list.append(dict(method='restyle',label=label,args=['visible',boo_label (label) ]))\n",
    "        \n",
    "buttons =   list([\n",
    "                dict(\n",
    "                    args=['visible', [True, True, True, True, True, True, True, True, True, True, True, True, True]],\n",
    "                    label='All',\n",
    "                    method='restyle'\n",
    "                )])+   plot_list   "
   ]
  },
  {
   "cell_type": "code",
   "execution_count": 22,
   "metadata": {
    "collapsed": false
   },
   "outputs": [
    {
     "data": {
      "text/html": [
       "<iframe id=\"igraph\" scrolling=\"no\" style=\"border:none;\" seamless=\"seamless\" src=\"https://plot.ly/~isakyaki2121/158.embed\" height=\"525px\" width=\"100%\"></iframe>"
      ],
      "text/plain": [
       "<plotly.tools.PlotlyDisplay object>"
      ]
     },
     "execution_count": 22,
     "metadata": {},
     "output_type": "execute_result"
    }
   ],
   "source": [
    "#Plot Actual Mean Revenue trend of KNN using different similarity measures for each decile ranked by different score types\n",
    "layout = go.Layout(\n",
    "    title='Comparing KNN by Score and Similarity',\n",
    "    updatemenus=list([\n",
    "        dict(\n",
    "            x=-0.05,\n",
    "            y=1,\n",
    "            yanchor='top',\n",
    "            buttons= buttons)\n",
    "    ]),\n",
    ")\n",
    "fig = go.Figure(data=data, layout=layout)\n",
    "py.iplot(fig)"
   ]
  },
  {
   "cell_type": "markdown",
   "metadata": {},
   "source": [
    "**Popularity-Based Recommender**"
   ]
  },
  {
   "cell_type": "code",
   "execution_count": 16,
   "metadata": {
    "collapsed": false
   },
   "outputs": [
    {
     "data": {
      "text/html": [
       "<iframe id=\"igraph\" scrolling=\"no\" style=\"border:none;\" seamless=\"seamless\" src=\"https://plot.ly/~isakyaki2121/152.embed\" height=\"525px\" width=\"100%\"></iframe>"
      ],
      "text/plain": [
       "<plotly.tools.PlotlyDisplay object>"
      ]
     },
     "execution_count": 16,
     "metadata": {},
     "output_type": "execute_result"
    }
   ],
   "source": [
    "#Plot Actual Mean Revenue trend of popularity, popularity_by_area, and popualrity_by_category\n",
    "popularity_all = pd.read_csv(\"F:/AY16-17 Sem2/BT4221/Project/A1_Code_Data_Descriptive_PopularityRec/summary_popularity_company_36.csv\")\n",
    "popularity_area = pd.read_csv(\"F:/AY16-17 Sem2/BT4221/Project/A1_Code_Data_Descriptive_PopularityRec/summary_popularity_company_36_area.csv\")\n",
    "popularity_cat = pd.read_csv(\"F:/AY16-17 Sem2/BT4221/Project/A1_Code_Data_Descriptive_PopularityRec/summary_popularity_company_36_category.csv\")\n",
    "\n",
    "tracep1 = go.Scatter(\n",
    "    x = popularity_all['percentile'],\n",
    "    y = popularity_all['ActualRevenue'],\n",
    "    name = 'Popularity_all'\n",
    ")\n",
    "tracep2 = go.Scatter(\n",
    "    x = popularity_area['percentile'],\n",
    "    y = popularity_area['ActualRevenue'],\n",
    "    name = 'Popularity_area'\n",
    ")\n",
    "tracep3 = go.Scatter(\n",
    "    x = popularity_cat['percentile'],\n",
    "    y = popularity_cat['ActualRevenue'],\n",
    "    name = 'Popularity_category'\n",
    ")\n",
    "\n",
    "datap = [tracep1, tracep2, tracep3]\n",
    "\n",
    "layout = dict(\n",
    "              xaxis = dict(title = 'Top n percentile of predicted households ranked by household spending'),\n",
    "              yaxis = dict(title = 'Actual Mean Revenue'),\n",
    "              )\n",
    "\n",
    "fig = dict(data=datap, layout=layout)\n",
    "py.iplot(fig, filename='revenue_popularity')"
   ]
  },
  {
   "cell_type": "code",
   "execution_count": 17,
   "metadata": {
    "collapsed": false
   },
   "outputs": [
    {
     "data": {
      "text/html": [
       "<iframe id=\"igraph\" scrolling=\"no\" style=\"border:none;\" seamless=\"seamless\" src=\"https://plot.ly/~isakyaki2121/154.embed\" height=\"525px\" width=\"100%\"></iframe>"
      ],
      "text/plain": [
       "<plotly.tools.PlotlyDisplay object>"
      ]
     },
     "execution_count": 17,
     "metadata": {},
     "output_type": "execute_result"
    }
   ],
   "source": [
    "#Compare the performance of 3 best strategies\n",
    "num_sim_cosine=pd.read_csv(path+\"/\"+knnFiles[10])\n",
    "tracek = go.Scatter(\n",
    "    x = num_sim_cosine['percentile'],\n",
    "    y = num_sim_cosine['ActualRevenueMean'],\n",
    "    name = 'knn_num_sim_cosine'\n",
    ")\n",
    "data_k = [trace5, tracek, tracep2]\n",
    "layout = dict(\n",
    "              xaxis = dict(title = 'Top n percentile of predicted households ranked by household spending'),\n",
    "              yaxis = dict(title = 'Actual Mean Revenue'),\n",
    "              )\n",
    "\n",
    "fig = dict(data=data_k, layout=layout)\n",
    "py.iplot(fig, filename='comparing')"
   ]
  },
  {
   "cell_type": "code",
   "execution_count": 23,
   "metadata": {
    "collapsed": true
   },
   "outputs": [],
   "source": [
    "X1 = list(range(100))\n",
    "X2 = list(range(200))\n",
    "X3 = list(range(500))\n",
    "X4 = list(range(1000))"
   ]
  },
  {
   "cell_type": "code",
   "execution_count": 24,
   "metadata": {
    "collapsed": false
   },
   "outputs": [
    {
     "name": "stderr",
     "output_type": "stream",
     "text": [
      "D:\\Users\\Olivia\\Anaconda3\\lib\\site-packages\\ipykernel\\__main__.py:17: SettingWithCopyWarning:\n",
      "\n",
      "\n",
      "A value is trying to be set on a copy of a slice from a DataFrame.\n",
      "Try using .loc[row_indexer,col_indexer] = value instead\n",
      "\n",
      "See the caveats in the documentation: http://pandas.pydata.org/pandas-docs/stable/indexing.html#indexing-view-versus-copy\n",
      "\n",
      "D:\\Users\\Olivia\\Anaconda3\\lib\\site-packages\\ipykernel\\__main__.py:18: SettingWithCopyWarning:\n",
      "\n",
      "\n",
      "A value is trying to be set on a copy of a slice from a DataFrame.\n",
      "Try using .loc[row_indexer,col_indexer] = value instead\n",
      "\n",
      "See the caveats in the documentation: http://pandas.pydata.org/pandas-docs/stable/indexing.html#indexing-view-versus-copy\n",
      "\n",
      "D:\\Users\\Olivia\\Anaconda3\\lib\\site-packages\\ipykernel\\__main__.py:19: SettingWithCopyWarning:\n",
      "\n",
      "\n",
      "A value is trying to be set on a copy of a slice from a DataFrame.\n",
      "Try using .loc[row_indexer,col_indexer] = value instead\n",
      "\n",
      "See the caveats in the documentation: http://pandas.pydata.org/pandas-docs/stable/indexing.html#indexing-view-versus-copy\n",
      "\n"
     ]
    }
   ],
   "source": [
    "#Load Recommendation File of Popularity-based recommender\n",
    "alld = pd.read_csv(\"F:/AY16-17 Sem2/BT4221/Project/A1_Code_Data_Descriptive_PopularityRec/popularity_company_36.csv\")\n",
    "area = pd.read_csv(\"F:/AY16-17 Sem2/BT4221/Project/A1_Code_Data_Descriptive_PopularityRec/popularity_company_36_area.csv\")\n",
    "cat = pd.read_csv(\"F:/AY16-17 Sem2/BT4221/Project/A1_Code_Data_Descriptive_PopularityRec/popularity_company_36_category.csv\")\n",
    "\n",
    "d_all = alld['ActualRevenue']\n",
    "d_area = area['ActualRevenue']\n",
    "d_cat = cat['ActualRevenue']\n",
    "\n",
    "h_all = alld['HH_ID']\n",
    "h_area = area['HH_ID']\n",
    "h_cat = cat['HH_ID']\n",
    "\n",
    "alld1 = alld[:1000]\n",
    "area1 = area[:1000]\n",
    "cat1 = cat[:1000]\n",
    "\n",
    "alld1['cumulative_revenue'] = [sum(alld1['ActualRevenue'][:i]) for i in range(1, len(alld1['ActualRevenue'])+1)]\n",
    "area1['cumulative_revenue'] = [sum(area1['ActualRevenue'][:i]) for i in range(1, len(area1['ActualRevenue'])+1)]\n",
    "cat1['cumulative_revenue'] = [sum(cat1['ActualRevenue'][:i]) for i in range(1, len(cat1['ActualRevenue'])+1)]\n",
    "\n",
    "c_all = alld1['cumulative_revenue']\n",
    "c_area = area1['cumulative_revenue']\n",
    "c_cat = cat1['cumulative_revenue']"
   ]
  },
  {
   "cell_type": "code",
   "execution_count": 25,
   "metadata": {
    "collapsed": false
   },
   "outputs": [
    {
     "data": {
      "text/html": [
       "<iframe id=\"igraph\" scrolling=\"no\" style=\"border:none;\" seamless=\"seamless\" src=\"https://plot.ly/~isakyaki2121/136.embed\" height=\"525px\" width=\"100%\"></iframe>"
      ],
      "text/plain": [
       "<plotly.tools.PlotlyDisplay object>"
      ]
     },
     "execution_count": 25,
     "metadata": {},
     "output_type": "execute_result"
    }
   ],
   "source": [
    "#Plot actual household spending of top 100/1000 customers recommended by popularity\n",
    "trace1 = go.Bar(\n",
    "    x = X1,\n",
    "    y = d_all[:99],\n",
    "    name = '100',\n",
    "    text = h_all[:99]\n",
    ")\n",
    "\n",
    "trace2 = go.Bar(\n",
    "    x = X4,\n",
    "    y = d_all[:999],\n",
    "    name = '1000',\n",
    "    text = h_all[:999]\n",
    ")\n",
    "\n",
    "trace11 = go.Scatter(\n",
    "    x = X1,\n",
    "    y = c_all[:99],\n",
    "    mode = 'lines',\n",
    "    name = '100',\n",
    "    yaxis='y2'\n",
    ")\n",
    "\n",
    "trace21 = go.Scatter(\n",
    "    x = X4,\n",
    "    y = c_all[:999],\n",
    "    mode = 'lines',\n",
    "    name = '1000',\n",
    "    yaxis='y2'\n",
    ")\n",
    "\n",
    "data = [trace1, trace2, trace11, trace21]\n",
    "layout = go.Layout(\n",
    "    title = 'Popularity',\n",
    "    yaxis=dict(\n",
    "        title='Household Spending'\n",
    "    ),\n",
    "    yaxis2=dict(\n",
    "        title='Cumulative Spending',\n",
    "        titlefont=dict(\n",
    "            color='rgb(148, 103, 189)'\n",
    "        ),\n",
    "        tickfont=dict(\n",
    "            color='rgb(148, 103, 189)'\n",
    "        ),\n",
    "        overlaying='y',\n",
    "        side='right'),\n",
    "    updatemenus=list([\n",
    "        dict(\n",
    "            x=-0.05,\n",
    "            y=1,\n",
    "            yanchor='top',\n",
    "            buttons=list([\n",
    "                dict(\n",
    "                    args=['visible', [True, False, True, False]],\n",
    "                    label='top 100',\n",
    "                    method='restyle'\n",
    "                ),\n",
    "                dict(\n",
    "                    args=['visible', [False, True,False, True]],\n",
    "                    label='top 1000',\n",
    "                    method='restyle'\n",
    "                )\n",
    "    ]),)]),\n",
    ")\n",
    "\n",
    "fig = go.Figure(data=data, layout=layout)\n",
    "py.iplot(fig)"
   ]
  },
  {
   "cell_type": "code",
   "execution_count": 26,
   "metadata": {
    "collapsed": false
   },
   "outputs": [
    {
     "data": {
      "text/html": [
       "<iframe id=\"igraph\" scrolling=\"no\" style=\"border:none;\" seamless=\"seamless\" src=\"https://plot.ly/~isakyaki2121/138.embed\" height=\"525px\" width=\"100%\"></iframe>"
      ],
      "text/plain": [
       "<plotly.tools.PlotlyDisplay object>"
      ]
     },
     "execution_count": 26,
     "metadata": {},
     "output_type": "execute_result"
    }
   ],
   "source": [
    "#Plot actual household spending of top 100/1000 customers recommended by customerised popularity-area\n",
    "trace1 = go.Bar(\n",
    "    x = X1,\n",
    "    y = d_area[:99],\n",
    "    name = '100',\n",
    "    text = h_area[:99],\n",
    "    marker=dict(\n",
    "        color='rgb(204,204,204)',\n",
    "    )\n",
    ")\n",
    "\n",
    "trace2 = go.Bar(\n",
    "    x = X4,\n",
    "    y = d_area[:999],\n",
    "    name = '1000',\n",
    "    text = h_area[:999],\n",
    "    marker=dict(\n",
    "        color='rgb(204,204,204)',\n",
    "    )\n",
    ")\n",
    "\n",
    "trace11 = go.Scatter(\n",
    "    x = X1,\n",
    "    y = c_area[:99],\n",
    "    mode = 'lines',\n",
    "    name = '100',\n",
    "    yaxis='y2'\n",
    ")\n",
    "\n",
    "trace21 = go.Scatter(\n",
    "    x = X4,\n",
    "    y = c_area[:999],\n",
    "    mode = 'lines',\n",
    "    name = '1000',\n",
    "    yaxis='y2'\n",
    ")\n",
    "\n",
    "data = [trace1, trace2, trace11, trace21]\n",
    "layout = go.Layout(\n",
    "    title = 'Customerised Popularity - By Area',\n",
    "    yaxis=dict(\n",
    "        title='Household Spending'\n",
    "    ),\n",
    "    yaxis2=dict(\n",
    "        title='Cumulative Spending',\n",
    "        titlefont=dict(\n",
    "            color='rgb(148, 103, 189)'\n",
    "        ),\n",
    "        tickfont=dict(\n",
    "            color='rgb(148, 103, 189)'\n",
    "        ),\n",
    "        overlaying='y',\n",
    "        side='right'),\n",
    "    updatemenus=list([\n",
    "        dict(\n",
    "            x=-0.05,\n",
    "            y=1,\n",
    "            yanchor='top',\n",
    "            buttons=list([\n",
    "                dict(\n",
    "                    args=['visible', [True, False, True, False]],\n",
    "                    label='top 100',\n",
    "                    method='restyle'\n",
    "                ),\n",
    "                dict(\n",
    "                    args=['visible', [False, True,False, True]],\n",
    "                    label='top 1000',\n",
    "                    method='restyle'\n",
    "                )\n",
    "    ]),)]),\n",
    ")\n",
    "\n",
    "fig = go.Figure(data=data, layout=layout)\n",
    "py.iplot(fig)"
   ]
  },
  {
   "cell_type": "code",
   "execution_count": 27,
   "metadata": {
    "collapsed": false
   },
   "outputs": [
    {
     "data": {
      "text/html": [
       "<iframe id=\"igraph\" scrolling=\"no\" style=\"border:none;\" seamless=\"seamless\" src=\"https://plot.ly/~isakyaki2121/140.embed\" height=\"525px\" width=\"100%\"></iframe>"
      ],
      "text/plain": [
       "<plotly.tools.PlotlyDisplay object>"
      ]
     },
     "execution_count": 27,
     "metadata": {},
     "output_type": "execute_result"
    }
   ],
   "source": [
    "#Plot actual household spending of top 100/1000 customers recommended by customerised popularity-category\n",
    "trace1 = go.Bar(\n",
    "    x = X1,\n",
    "    y = d_cat[:99],\n",
    "    name = '100',\n",
    "    text = h_cat[:99],\n",
    "    marker=dict(\n",
    "        color='rgb(158,202,225)'),\n",
    "    opacity=0.7\n",
    ")\n",
    "\n",
    "trace2 = go.Bar(\n",
    "    x = X4,\n",
    "    y = d_cat[:999],\n",
    "    name = '1000',\n",
    "    text = h_cat[:999],\n",
    "    marker=dict(\n",
    "        color='rgb(158,202,225)'),\n",
    "    opacity=0.7\n",
    ")\n",
    "\n",
    "trace11 = go.Scatter(\n",
    "    x = X1,\n",
    "    y = c_cat[:99],\n",
    "    mode = 'lines',\n",
    "    name = '100',\n",
    "    yaxis='y2'\n",
    ")\n",
    "\n",
    "trace21 = go.Scatter(\n",
    "    x = X4,\n",
    "    y = c_cat[:999],\n",
    "    mode = 'lines',\n",
    "    name = '1000',\n",
    "    yaxis='y2'\n",
    ")\n",
    "\n",
    "data = [trace1, trace2, trace11, trace21]\n",
    "layout = go.Layout(\n",
    "    title = 'Customerised Popularity - By Category',\n",
    "    yaxis=dict(\n",
    "        title='Household Spending'\n",
    "    ),\n",
    "    yaxis2=dict(\n",
    "        title='Cumulative Spending',\n",
    "        titlefont=dict(\n",
    "            color='rgb(148, 103, 189)'\n",
    "        ),\n",
    "        tickfont=dict(\n",
    "            color='rgb(148, 103, 189)'\n",
    "        ),\n",
    "        overlaying='y',\n",
    "        side='right'),\n",
    "    updatemenus=list([\n",
    "        dict(\n",
    "            x=-0.05,\n",
    "            y=1,\n",
    "            yanchor='top',\n",
    "            buttons=list([\n",
    "                dict(\n",
    "                    args=['visible', [True, False, True, False]],\n",
    "                    label='top 100',\n",
    "                    method='restyle'\n",
    "                ),\n",
    "                dict(\n",
    "                    args=['visible', [False, True,False, True]],\n",
    "                    label='top 1000',\n",
    "                    method='restyle'\n",
    "                )\n",
    "    ]),)]),\n",
    ")\n",
    "\n",
    "fig = go.Figure(data=data, layout=layout)\n",
    "py.iplot(fig)"
   ]
  },
  {
   "cell_type": "code",
   "execution_count": 28,
   "metadata": {
    "collapsed": false
   },
   "outputs": [
    {
     "data": {
      "text/html": [
       "<iframe id=\"igraph\" scrolling=\"no\" style=\"border:none;\" seamless=\"seamless\" src=\"https://plot.ly/~isakyaki2121/142.embed\" height=\"525px\" width=\"100%\"></iframe>"
      ],
      "text/plain": [
       "<plotly.tools.PlotlyDisplay object>"
      ]
     },
     "execution_count": 28,
     "metadata": {},
     "output_type": "execute_result"
    }
   ],
   "source": [
    "#Heatmap of potential customer distribution in the US by zipcode, data from customerised popularity recommender result-by category\n",
    "popzip = pd.read_csv(\"F:/AY16-17 Sem2/BT4221/Project/hhhhhh/3.popularity of hh by spending/pop_zip_cat.csv\")\n",
    "\n",
    "scl = [[0.0, 'rgb(242,240,247)'],[0.2, 'rgb(218,218,235)'],[0.4, 'rgb(188,189,220)'],\\\n",
    "            [0.6, 'rgb(158,154,200)'],[0.8, 'rgb(117,107,177)'],[1.0, 'rgb(84,39,143)']]\n",
    "data = [ dict(\n",
    "        type='choropleth',\n",
    "        colorscale = scl,\n",
    "        autocolorscale = False,\n",
    "        locations = popzip['State'],\n",
    "        z = popzip['Dollars'].astype(float),\n",
    "        locationmode = 'USA-states',\n",
    "        marker = dict(\n",
    "            line = dict (\n",
    "                color = 'rgb(255,255,255)',\n",
    "                width = 2\n",
    "            ) ),\n",
    "        colorbar = dict(\n",
    "            title = \"USD\")\n",
    "        ) ]\n",
    "\n",
    "layout = dict(\n",
    "        title = 'Customised Popularity - By Category',\n",
    "        geo = dict(\n",
    "            scope='usa',\n",
    "            projection=dict( type='albers usa' ),\n",
    "            showlakes = True,\n",
    "            lakecolor = 'rgb(255, 255, 255)'),\n",
    "             )\n",
    "    \n",
    "fig = dict( data=data, layout=layout )\n",
    "py.iplot( fig, filename='coloropleth-map' )"
   ]
  }
 ],
 "metadata": {
  "kernelspec": {
   "display_name": "Python [Root]",
   "language": "python",
   "name": "Python [Root]"
  },
  "language_info": {
   "codemirror_mode": {
    "name": "ipython",
    "version": 3
   },
   "file_extension": ".py",
   "mimetype": "text/x-python",
   "name": "python",
   "nbconvert_exporter": "python",
   "pygments_lexer": "ipython3",
   "version": "3.5.2"
  }
 },
 "nbformat": 4,
 "nbformat_minor": 2
}
