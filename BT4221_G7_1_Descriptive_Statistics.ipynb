{
 "cells": [
  {
   "cell_type": "markdown",
   "metadata": {
    "collapsed": true
   },
   "source": [
    "# Company's product area, revenue and customer base trends\n",
    "### Summary of I/O csv files\n",
    "Input Files\n",
    "    > 'area.csv'     - product area code & descripton\n",
    "    > 'caregory.csv' - product sub-category...\n",
    "Output Files\n",
    "    > 'company_area_percentage.csv'         - percentage revenue for all companies by ProductArea\n",
    "    > 'company_category_percentage.csv'     - ... by MajorCategory\n",
    "    > 'company_sales_revenue_36.csv'        - revenue for Company 36 in 36 months in 10 areas\n",
    "    > 'company_sales_hh_num_36.csv'         - cumulative customer base for ..."
   ]
  },
  {
   "cell_type": "markdown",
   "metadata": {},
   "source": [
    "## Use MongoDB to Store Source Data\n",
    "Start MondoDB as a Windows Service from command line:\n",
    "\n",
    "> $ \"C:\\Program Files\\MongoDB\\Server\\3.4.2\\bin\\mongod.exe\" --config \"C:\\Program Files\\MongoDB\\Server\\3.4.2\\mongod.cfg\" --install\n",
    "\n",
    "> $ net start MongoDB\n",
    "\n",
    "Import csv files to db BT4221_DB \n",
    "> $ cd C:\\Program Files\\MongoDB\\Server\\3.4.2\\bin\n",
    "\n",
    "> $ mongoimport -d BT4221_DB -c Orders --type csv --file C:\\Users\\User\\Desktop\\BT4221\\Project\\11\\DMEFOrders3Dataset2.csv --headerline\n",
    "\n",
    "> $ mongoimport -d BT4221_DB -c Lines --type csv --file C:\\Users\\User\\Desktop\\BT4221\\Project\\11\\DMEFLines3Dataset2.csv --headerline\n",
    "\n",
    "> $ mongoimport -d BT4221_DB -c HouseholdZIP --type csv --file C:\\Users\\User\\Desktop\\BT4221\\Project\\11\\4-DMEF3YrBase.csv --headerline\n"
   ]
  },
  {
   "cell_type": "code",
   "execution_count": 1,
   "metadata": {
    "collapsed": false
   },
   "outputs": [
    {
     "data": {
      "text/plain": [
       "'3.5.2 |Anaconda custom (64-bit)| (default, Jul  5 2016, 11:41:13) [MSC v.1900 64 bit (AMD64)]'"
      ]
     },
     "execution_count": 1,
     "metadata": {},
     "output_type": "execute_result"
    }
   ],
   "source": [
    "# Python version used\n",
    "import sys\n",
    "sys.version"
   ]
  },
  {
   "cell_type": "code",
   "execution_count": 2,
   "metadata": {
    "collapsed": true
   },
   "outputs": [],
   "source": [
    "\"\"\" Method for retriving data from mongodb\"\"\"\n",
    "import pandas as pd\n",
    "from pymongo import MongoClient\n",
    "\n",
    "def _connect_mongo(host, port, username, password, db):\n",
    "    \"\"\" A util for making a connection to mongo \"\"\"\n",
    "    if username and password:\n",
    "        mongo_uri = 'mongodb://%s:%s@%s:%s/%s' % (username, password, host, port, db)\n",
    "        conn = MongoClient(mongo_uri)\n",
    "    else:\n",
    "        conn = MongoClient(host, port)\n",
    "    return(conn[db])\n",
    "\n",
    "def read_mongo(db, collection, query={}, host='localhost', port=27017, username=None, password=None, no_id=True):\n",
    "    \"\"\" Read from Mongo and Store into DataFrame \"\"\"\n",
    "    # Connect to MongoDB\n",
    "    db = _connect_mongo(host=host, port=port, username=username, password=password, db=db)\n",
    "    cursor = db[collection].find(query)\n",
    "    df =  pd.DataFrame(list(cursor))\n",
    "    # Delete the _id\n",
    "    if no_id:\n",
    "        del df['_id']\n",
    "    return(df)"
   ]
  },
  {
   "cell_type": "markdown",
   "metadata": {},
   "source": [
    "# \n",
    "## Describe all companies by product areas and subcategories"
   ]
  },
  {
   "cell_type": "code",
   "execution_count": 4,
   "metadata": {
    "collapsed": false
   },
   "outputs": [
    {
     "name": "stdout",
     "output_type": "stream",
     "text": [
      "(35536676, 9)\n"
     ]
    }
   ],
   "source": [
    "lines = read_mongo(\"BT4221_DB\", \"Lines\")\n",
    "print(len(lines))"
   ]
  },
  {
   "cell_type": "code",
   "execution_count": 6,
   "metadata": {
    "collapsed": false
   },
   "outputs": [
    {
     "name": "stdout",
     "output_type": "stream",
     "text": [
      "(207, 10)\n"
     ]
    },
    {
     "data": {
      "text/html": [
       "<div>\n",
       "<table border=\"1\" class=\"dataframe\">\n",
       "  <thead>\n",
       "    <tr style=\"text-align: right;\">\n",
       "      <th></th>\n",
       "      <th>Electronics</th>\n",
       "      <th>Entertainment</th>\n",
       "      <th>Fashion</th>\n",
       "      <th>Food &amp; Entertaining</th>\n",
       "      <th>Health &amp; Beauty</th>\n",
       "      <th>Home &amp; Garden</th>\n",
       "      <th>Kids &amp; Baby</th>\n",
       "      <th>Teens</th>\n",
       "      <th>Travel &amp; Sports</th>\n",
       "      <th>Others</th>\n",
       "    </tr>\n",
       "    <tr>\n",
       "      <th>CompanyID</th>\n",
       "      <th></th>\n",
       "      <th></th>\n",
       "      <th></th>\n",
       "      <th></th>\n",
       "      <th></th>\n",
       "      <th></th>\n",
       "      <th></th>\n",
       "      <th></th>\n",
       "      <th></th>\n",
       "      <th></th>\n",
       "    </tr>\n",
       "  </thead>\n",
       "  <tbody>\n",
       "    <tr>\n",
       "      <th>760</th>\n",
       "      <td>0.0</td>\n",
       "      <td>0.0</td>\n",
       "      <td>0.954521</td>\n",
       "      <td>0.0</td>\n",
       "      <td>0.0</td>\n",
       "      <td>0.0</td>\n",
       "      <td>0.0</td>\n",
       "      <td>0.0</td>\n",
       "      <td>0.00231</td>\n",
       "      <td>0.043169</td>\n",
       "    </tr>\n",
       "  </tbody>\n",
       "</table>\n",
       "</div>"
      ],
      "text/plain": [
       "           Electronics  Entertainment   Fashion  Food & Entertaining  \\\n",
       "CompanyID                                                              \n",
       "760                0.0            0.0  0.954521                  0.0   \n",
       "\n",
       "           Health & Beauty  Home & Garden  Kids & Baby  Teens  \\\n",
       "CompanyID                                                       \n",
       "760                    0.0            0.0          0.0    0.0   \n",
       "\n",
       "           Travel & Sports    Others  \n",
       "CompanyID                             \n",
       "760                0.00231  0.043169  "
      ]
     },
     "execution_count": 6,
     "metadata": {},
     "output_type": "execute_result"
    }
   ],
   "source": [
    "\"\"\" describe all companies by product area\"\"\"\n",
    "lines.ProductArea = lines.ProductArea.apply(lambda s: s if s<10 else 10) # 10 product areas\n",
    "df_area = lines.groupby(by=[\"CompanyID\", \"ProductArea\"])['Dollars'].sum().to_frame().reset_index()\n",
    "# pivot the dataframe\n",
    "df_area_wide = df_area.pivot(index='CompanyID', columns='ProductArea', values='Dollars')\n",
    "\n",
    "# change to % by revenue\n",
    "import numpy as np\n",
    "df_area_wide = df_area_wide.replace(np.nan, 0, regex=True)\n",
    "s = df_area_wide.sum(axis=1)\n",
    "df_area_perc = df_area_wide.loc[:,:].div(s, axis=0)\n",
    "\n",
    "# change column names to actual areas\n",
    "area = pd.read_csv(\"area.csv\")\n",
    "names = area.Description.head(10).tolist()\n",
    "names = names[:-1]+[\"Others\"]\n",
    "df_area_perc.columns = names\n",
    "print(df_area_perc.shape)\n",
    "df_area_perc.head(2)\n",
    "\n",
    "# Save results to csv file\n",
    "file_name = \"company_area_percentage.csv\"\n",
    "df_area_perc.to_csv(file_name)\n",
    "\n",
    "print(df_area_perc.shape)\n",
    "df_area_perc.sample(1)\n",
    "\n",
    "print(df_area_perc.shape)\n",
    "df_area_perc.sample(1)"
   ]
  },
  {
   "cell_type": "code",
   "execution_count": 7,
   "metadata": {
    "collapsed": false
   },
   "outputs": [
    {
     "name": "stdout",
     "output_type": "stream",
     "text": [
      "(207, 69)\n"
     ]
    },
    {
     "data": {
      "text/html": [
       "<div>\n",
       "<table border=\"1\" class=\"dataframe\">\n",
       "  <thead>\n",
       "    <tr style=\"text-align: right;\">\n",
       "      <th>MajorCategory</th>\n",
       "      <th>Others</th>\n",
       "      <th>Gift Wrapping</th>\n",
       "      <th>Audio/music</th>\n",
       "      <th>Baby Furniture</th>\n",
       "      <th>Baby Gear</th>\n",
       "      <th>Bar &amp; Cigar</th>\n",
       "      <th>Bath/closet</th>\n",
       "      <th>Bathroom Linens</th>\n",
       "      <th>Beauty</th>\n",
       "      <th>Bedroom Decor</th>\n",
       "      <th>...</th>\n",
       "      <th>Travel</th>\n",
       "      <th>Video/movies</th>\n",
       "      <th>Wall Decor</th>\n",
       "      <th>Window Treatments</th>\n",
       "      <th>Women's Apparel</th>\n",
       "      <th>Women's Fashion Accessories</th>\n",
       "      <th>Women's Footwear</th>\n",
       "      <th>Women's Jewelry</th>\n",
       "      <th>Women's Sports Apparel and Access</th>\n",
       "      <th>Women's Watches</th>\n",
       "    </tr>\n",
       "    <tr>\n",
       "      <th>CompanyID</th>\n",
       "      <th></th>\n",
       "      <th></th>\n",
       "      <th></th>\n",
       "      <th></th>\n",
       "      <th></th>\n",
       "      <th></th>\n",
       "      <th></th>\n",
       "      <th></th>\n",
       "      <th></th>\n",
       "      <th></th>\n",
       "      <th></th>\n",
       "      <th></th>\n",
       "      <th></th>\n",
       "      <th></th>\n",
       "      <th></th>\n",
       "      <th></th>\n",
       "      <th></th>\n",
       "      <th></th>\n",
       "      <th></th>\n",
       "      <th></th>\n",
       "      <th></th>\n",
       "    </tr>\n",
       "  </thead>\n",
       "  <tbody>\n",
       "    <tr>\n",
       "      <th>760</th>\n",
       "      <td>0.043169</td>\n",
       "      <td>0.0</td>\n",
       "      <td>0.0</td>\n",
       "      <td>0.0</td>\n",
       "      <td>0.0</td>\n",
       "      <td>0.0</td>\n",
       "      <td>0.0</td>\n",
       "      <td>0.0</td>\n",
       "      <td>0.0</td>\n",
       "      <td>0.0</td>\n",
       "      <td>...</td>\n",
       "      <td>0.0</td>\n",
       "      <td>0.0</td>\n",
       "      <td>0.0</td>\n",
       "      <td>0.0</td>\n",
       "      <td>0.845774</td>\n",
       "      <td>0.0</td>\n",
       "      <td>0.027737</td>\n",
       "      <td>0.0</td>\n",
       "      <td>0.0</td>\n",
       "      <td>0.0</td>\n",
       "    </tr>\n",
       "  </tbody>\n",
       "</table>\n",
       "<p>1 rows × 69 columns</p>\n",
       "</div>"
      ],
      "text/plain": [
       "MajorCategory    Others  Gift Wrapping                           \\\n",
       "CompanyID                                                         \n",
       "760            0.043169                                     0.0   \n",
       "\n",
       "MajorCategory  Audio/music                             \\\n",
       "CompanyID                                               \n",
       "760                                               0.0   \n",
       "\n",
       "MajorCategory  Baby Furniture                          \\\n",
       "CompanyID                                               \n",
       "760                                               0.0   \n",
       "\n",
       "MajorCategory  Baby Gear                               \\\n",
       "CompanyID                                               \n",
       "760                                               0.0   \n",
       "\n",
       "MajorCategory  Bar & Cigar                             \\\n",
       "CompanyID                                               \n",
       "760                                               0.0   \n",
       "\n",
       "MajorCategory  Bath/closet                             \\\n",
       "CompanyID                                               \n",
       "760                                               0.0   \n",
       "\n",
       "MajorCategory  Bathroom Linens                         \\\n",
       "CompanyID                                               \n",
       "760                                               0.0   \n",
       "\n",
       "MajorCategory  Beauty                                  \\\n",
       "CompanyID                                               \n",
       "760                                               0.0   \n",
       "\n",
       "MajorCategory  Bedroom Decor                           \\\n",
       "CompanyID                                               \n",
       "760                                               0.0   \n",
       "\n",
       "MajorCategory                 ...                  \\\n",
       "CompanyID                     ...                   \n",
       "760                           ...                   \n",
       "\n",
       "MajorCategory  Travel                              \\\n",
       "CompanyID                                           \n",
       "760                                           0.0   \n",
       "\n",
       "MajorCategory  Video/movies                        \\\n",
       "CompanyID                                           \n",
       "760                                           0.0   \n",
       "\n",
       "MajorCategory  Wall Decor                          \\\n",
       "CompanyID                                           \n",
       "760                                           0.0   \n",
       "\n",
       "MajorCategory  Window Treatments                   \\\n",
       "CompanyID                                           \n",
       "760                                           0.0   \n",
       "\n",
       "MajorCategory  Women's Apparel                     \\\n",
       "CompanyID                                           \n",
       "760                                      0.845774   \n",
       "\n",
       "MajorCategory  Women's Fashion Accessories         \\\n",
       "CompanyID                                           \n",
       "760                                           0.0   \n",
       "\n",
       "MajorCategory  Women's Footwear                    \\\n",
       "CompanyID                                           \n",
       "760                                      0.027737   \n",
       "\n",
       "MajorCategory  Women's Jewelry                     \\\n",
       "CompanyID                                           \n",
       "760                                           0.0   \n",
       "\n",
       "MajorCategory  Women's Sports Apparel and Access   \\\n",
       "CompanyID                                           \n",
       "760                                           0.0   \n",
       "\n",
       "MajorCategory  Women's Watches                     \n",
       "CompanyID                                          \n",
       "760                                           0.0  \n",
       "\n",
       "[1 rows x 69 columns]"
      ]
     },
     "execution_count": 7,
     "metadata": {},
     "output_type": "execute_result"
    }
   ],
   "source": [
    "\"\"\" company by product category\"\"\"\n",
    "lines.MajorCategory = lines.MajorCategory.apply(lambda s: s if s<73 else 2) # change 1 and 73 to 2\n",
    "lines.MajorCategory = lines.MajorCategory.apply(lambda s: s if s>1 else 2) # change 1 and 73 to 2\n",
    "\n",
    "df_category = lines.groupby(by=[\"CompanyID\", \"MajorCategory\"])['Dollars'].sum().to_frame().reset_index()\n",
    "# pivot the dataframe\n",
    "df_category_wide = df_category.pivot(index='CompanyID', columns='MajorCategory', values='Dollars')\n",
    "\n",
    "# change to % by revenue\n",
    "import numpy as np\n",
    "df_category_wide = df_category_wide.replace(np.nan, 0, regex=True)\n",
    "s = df_category_wide.sum(axis=1)\n",
    "df_category_perc = df_category_wide.loc[:,:].div(s, axis=0)\n",
    "\n",
    "# change column names to actual categorys\n",
    "category = pd.read_csv(\"category.csv\")\n",
    "df_category_perc.rename(columns=dict(zip(category.Code, category.Description)), inplace=True)\n",
    "print(df_category_perc.shape)\n",
    "df_category_perc.sample(1)\n",
    "\n",
    "# Save to csv files\n",
    "file_name = \"company_category_percentage.csv\"\n",
    "df_category_perc.to_csv(file_name)"
   ]
  },
  {
   "cell_type": "markdown",
   "metadata": {},
   "source": [
    "#\n",
    "## Identify a company \n",
    "> with relative large number of unique customers in the training period"
   ]
  },
  {
   "cell_type": "code",
   "execution_count": 30,
   "metadata": {
    "collapsed": false
   },
   "outputs": [
    {
     "data": {
      "text/html": [
       "<div>\n",
       "<table border=\"1\" class=\"dataframe\">\n",
       "  <thead>\n",
       "    <tr style=\"text-align: right;\">\n",
       "      <th></th>\n",
       "      <th>Dollars</th>\n",
       "      <th>HH_ID</th>\n",
       "    </tr>\n",
       "    <tr>\n",
       "      <th>CompanyID</th>\n",
       "      <th></th>\n",
       "      <th></th>\n",
       "    </tr>\n",
       "  </thead>\n",
       "  <tbody>\n",
       "    <tr>\n",
       "      <th>36</th>\n",
       "      <td>29074009</td>\n",
       "      <td>268068</td>\n",
       "    </tr>\n",
       "    <tr>\n",
       "      <th>153</th>\n",
       "      <td>29675748</td>\n",
       "      <td>242791</td>\n",
       "    </tr>\n",
       "    <tr>\n",
       "      <th>734</th>\n",
       "      <td>49838807</td>\n",
       "      <td>193985</td>\n",
       "    </tr>\n",
       "  </tbody>\n",
       "</table>\n",
       "</div>"
      ],
      "text/plain": [
       "            Dollars   HH_ID\n",
       "CompanyID                  \n",
       "36         29074009  268068\n",
       "153        29675748  242791\n",
       "734        49838807  193985"
      ]
     },
     "execution_count": 30,
     "metadata": {},
     "output_type": "execute_result"
    }
   ],
   "source": [
    "df1 = lines[lines.OrderDate<=20070630].groupby('CompanyID').agg({\"HH_ID\": 'nunique', 'Dollars': 'sum'})\n",
    "df1 = df1.sort_values(by=\"HH_ID\", ascending = False)\n",
    "df1.head(3)"
   ]
  },
  {
   "cell_type": "markdown",
   "metadata": {},
   "source": [
    "### Thus, we select CompanyID = 36 as an example\n",
    "# \n",
    "## Trends for Company 36\n",
    "> Trend for Revenue in Each Product Area, by month\n",
    "\n",
    "> Trend for cumulative customer base in each ProductArea, by month"
   ]
  },
  {
   "cell_type": "code",
   "execution_count": 33,
   "metadata": {
    "collapsed": false
   },
   "outputs": [
    {
     "name": "stdout",
     "output_type": "stream",
     "text": [
      "number of lines: 2368670\n",
      "period:  200501 200712\n"
     ]
    },
    {
     "data": {
      "text/html": [
       "<div>\n",
       "<table border=\"1\" class=\"dataframe\">\n",
       "  <thead>\n",
       "    <tr style=\"text-align: right;\">\n",
       "      <th></th>\n",
       "      <th>HH_ID</th>\n",
       "      <th>CompanyID</th>\n",
       "      <th>OrderNum</th>\n",
       "      <th>OrderDate</th>\n",
       "      <th>ProductArea</th>\n",
       "      <th>MajorCategory</th>\n",
       "      <th>Dollars</th>\n",
       "      <th>Quantity</th>\n",
       "      <th>Channel</th>\n",
       "      <th>month</th>\n",
       "    </tr>\n",
       "  </thead>\n",
       "  <tbody>\n",
       "    <tr>\n",
       "      <th>32313835</th>\n",
       "      <td>2087022</td>\n",
       "      <td>36</td>\n",
       "      <td>9055819</td>\n",
       "      <td>20060907</td>\n",
       "      <td>6</td>\n",
       "      <td>41</td>\n",
       "      <td>21</td>\n",
       "      <td>2</td>\n",
       "      <td>I</td>\n",
       "      <td>200609</td>\n",
       "    </tr>\n",
       "  </tbody>\n",
       "</table>\n",
       "</div>"
      ],
      "text/plain": [
       "            HH_ID  CompanyID  OrderNum  OrderDate  ProductArea  MajorCategory  \\\n",
       "32313835  2087022         36   9055819   20060907            6             41   \n",
       "\n",
       "          Dollars  Quantity Channel   month  \n",
       "32313835       21         2       I  200609  "
      ]
     },
     "execution_count": 33,
     "metadata": {},
     "output_type": "execute_result"
    }
   ],
   "source": [
    "company = 36\n",
    "df = lines[lines.CompanyID==company]\n",
    "df[\"month\"] = df.OrderDate//100\n",
    "print(\"number of lines:\", len(df))\n",
    "print(\"period: \",min(df.month),max(df.month))\n",
    "df.sample(1)"
   ]
  },
  {
   "cell_type": "code",
   "execution_count": 36,
   "metadata": {
    "collapsed": false
   },
   "outputs": [
    {
     "data": {
      "text/html": [
       "<div>\n",
       "<table border=\"1\" class=\"dataframe\">\n",
       "  <thead>\n",
       "    <tr style=\"text-align: right;\">\n",
       "      <th></th>\n",
       "      <th>ProductArea</th>\n",
       "      <th>month</th>\n",
       "      <th>Dollars</th>\n",
       "    </tr>\n",
       "  </thead>\n",
       "  <tbody>\n",
       "    <tr>\n",
       "      <th>175</th>\n",
       "      <td>5</td>\n",
       "      <td>200708</td>\n",
       "      <td>8865</td>\n",
       "    </tr>\n",
       "  </tbody>\n",
       "</table>\n",
       "</div>"
      ],
      "text/plain": [
       "     ProductArea   month  Dollars\n",
       "175            5  200708     8865"
      ]
     },
     "execution_count": 36,
     "metadata": {},
     "output_type": "execute_result"
    }
   ],
   "source": [
    "\"\"\"group by month, 10 product areas, revenue as sum dollars\"\"\"\n",
    "df2 = df.groupby(by=[\"ProductArea\", \"month\"])['Dollars'].sum().to_frame().reset_index()\n",
    "df2.sample(1)\n",
    "# Save to csv\n",
    "file_name = \"company_sales_revenue_\"+str(company)+\".csv\"\n",
    "df2.to_csv(file_name, index=False)"
   ]
  },
  {
   "cell_type": "code",
   "execution_count": 39,
   "metadata": {
    "collapsed": false
   },
   "outputs": [
    {
     "data": {
      "text/html": [
       "<div>\n",
       "<table border=\"1\" class=\"dataframe\">\n",
       "  <thead>\n",
       "    <tr style=\"text-align: right;\">\n",
       "      <th></th>\n",
       "      <th>ProductArea</th>\n",
       "      <th>month</th>\n",
       "      <th>num_hh</th>\n",
       "    </tr>\n",
       "  </thead>\n",
       "  <tbody>\n",
       "    <tr>\n",
       "      <th>74</th>\n",
       "      <td>3</td>\n",
       "      <td>200503</td>\n",
       "      <td>3111</td>\n",
       "    </tr>\n",
       "  </tbody>\n",
       "</table>\n",
       "</div>"
      ],
      "text/plain": [
       "    ProductArea   month  num_hh\n",
       "74            3  200503    3111"
      ]
     },
     "execution_count": 39,
     "metadata": {},
     "output_type": "execute_result"
    }
   ],
   "source": [
    "\"\"\"group by month, 10 product areas, accumulative customer base = count hh_id\"\"\"\n",
    "# For each month-ProductArea, count the number of unique customers in accumulative customer base\n",
    "def num_hh_count(s):\n",
    "    df_area = df.groupby('ProductArea').get_group(s.ProductArea)    \n",
    "    df_month = df_area[df_area.month<=s.month]    \n",
    "    hh_num = len(set(df_month.HH_ID)) # or df_month.HH_ID.nunique()\n",
    "    return(hh_num)\n",
    "df2[\"num_hh\"] = df2.apply(num_hh_count, axis=1) \n",
    "df3 = df2[[\"ProductArea\", \"month\", \"num_hh\"]]\n",
    "df3.sample(1)\n",
    "# Save to csv\n",
    "file_name = \"company_sales_hh_num_\"+str(company)+\".csv\"\n",
    "df3.to_csv(file_name, index=False)df3.sample(1)"
   ]
  }
 ],
 "metadata": {
  "anaconda-cloud": {},
  "kernelspec": {
   "display_name": "Python [Root]",
   "language": "python",
   "name": "Python [Root]"
  },
  "language_info": {
   "codemirror_mode": {
    "name": "ipython",
    "version": 3
   },
   "file_extension": ".py",
   "mimetype": "text/x-python",
   "name": "python",
   "nbconvert_exporter": "python",
   "pygments_lexer": "ipython3",
   "version": "3.5.2"
  }
 },
 "nbformat": 4,
 "nbformat_minor": 0
}
