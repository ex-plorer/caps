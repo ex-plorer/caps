{
 "cells": [
  {
   "cell_type": "markdown",
   "metadata": {
    "collapsed": false
   },
   "source": [
    "## Data required by recomender\n",
    "> in the format of: user item rating; tab deliminated, withut header\n",
    "\n",
    "> train/test: MinMaxScalling or not; Number of purchases or Total spending in Purchases; log trascormation or not;\n",
    "\n",
    "16 output files with naming convension: \n",
    "     >   [scale_,][train_, test_][num, dol][_log,].txt\n",
    "     "
   ]
  },
  {
   "cell_type": "code",
   "execution_count": 2,
   "metadata": {
    "collapsed": false
   },
   "outputs": [
    {
     "name": "stdout",
     "output_type": "stream",
     "text": [
      "13382011\n"
     ]
    },
    {
     "data": {
      "text/html": [
       "<div>\n",
       "<table border=\"1\" class=\"dataframe\">\n",
       "  <thead>\n",
       "    <tr style=\"text-align: right;\">\n",
       "      <th></th>\n",
       "      <th>HH_ID</th>\n",
       "      <th>CompanyID</th>\n",
       "      <th>OrderNum</th>\n",
       "      <th>OrderDate</th>\n",
       "      <th>Dollars</th>\n",
       "      <th>PaymentType</th>\n",
       "      <th>Channel</th>\n",
       "    </tr>\n",
       "  </thead>\n",
       "  <tbody>\n",
       "    <tr>\n",
       "      <th>6467378</th>\n",
       "      <td>763686</td>\n",
       "      <td>744</td>\n",
       "      <td>4696493</td>\n",
       "      <td>20050322</td>\n",
       "      <td>158</td>\n",
       "      <td>H</td>\n",
       "      <td>C</td>\n",
       "    </tr>\n",
       "    <tr>\n",
       "      <th>12437255</th>\n",
       "      <td>2166067</td>\n",
       "      <td>54</td>\n",
       "      <td>13874484</td>\n",
       "      <td>20070521</td>\n",
       "      <td>160</td>\n",
       "      <td></td>\n",
       "      <td>O</td>\n",
       "    </tr>\n",
       "  </tbody>\n",
       "</table>\n",
       "</div>"
      ],
      "text/plain": [
       "            HH_ID  CompanyID  OrderNum  OrderDate  Dollars PaymentType Channel\n",
       "6467378    763686        744   4696493   20050322      158           H       C\n",
       "12437255  2166067         54  13874484   20070521      160                   O"
      ]
     },
     "execution_count": 2,
     "metadata": {},
     "output_type": "execute_result"
    }
   ],
   "source": [
    "\"\"\" Retriving data from mongodb\"\"\"\n",
    "import pandas as pd\n",
    "from pymongo import MongoClient\n",
    "\n",
    "def _connect_mongo(host, port, username, password, db):\n",
    "    \"\"\" A util for making a connection to mongo \"\"\"\n",
    "    if username and password:\n",
    "        mongo_uri = 'mongodb://%s:%s@%s:%s/%s' % (username, password, host, port, db)\n",
    "        conn = MongoClient(mongo_uri)\n",
    "    else:\n",
    "        conn = MongoClient(host, port)\n",
    "    return(conn[db])\n",
    "\n",
    "def read_mongo(db, collection, query={}, host='localhost', port=27017, username=None, password=None, no_id=True):\n",
    "    \"\"\" Read from Mongo and Store into DataFrame \"\"\"\n",
    "    # Connect to MongoDB\n",
    "    db = _connect_mongo(host=host, port=port, username=username, password=password, db=db)\n",
    "    cursor = db[collection].find(query)\n",
    "    df =  pd.DataFrame(list(cursor))\n",
    "    # Delete the _id\n",
    "    if no_id:\n",
    "        del df['_id']\n",
    "    return(df)\n",
    "\n",
    "orders = read_mongo(\"BT4221_DB\", \"Orders\")\n",
    "print(len(orders)) \n",
    "orders.sample(2)"
   ]
  },
  {
   "cell_type": "code",
   "execution_count": 7,
   "metadata": {
    "collapsed": false
   },
   "outputs": [
    {
     "name": "stdout",
     "output_type": "stream",
     "text": [
      "5157084\n"
     ]
    },
    {
     "data": {
      "text/html": [
       "<div>\n",
       "<table border=\"1\" class=\"dataframe\">\n",
       "  <thead>\n",
       "    <tr style=\"text-align: right;\">\n",
       "      <th></th>\n",
       "      <th>HH_ID</th>\n",
       "      <th>CompanyID</th>\n",
       "      <th>OrderNum</th>\n",
       "      <th>Dollars</th>\n",
       "    </tr>\n",
       "  </thead>\n",
       "  <tbody>\n",
       "    <tr>\n",
       "      <th>4138108</th>\n",
       "      <td>1682436</td>\n",
       "      <td>734</td>\n",
       "      <td>2</td>\n",
       "      <td>77</td>\n",
       "    </tr>\n",
       "  </tbody>\n",
       "</table>\n",
       "</div>"
      ],
      "text/plain": [
       "           HH_ID  CompanyID  OrderNum  Dollars\n",
       "4138108  1682436        734         2       77"
      ]
     },
     "execution_count": 7,
     "metadata": {},
     "output_type": "execute_result"
    }
   ],
   "source": [
    "\"\"\"training data, first 30 months, HH_ID-CompanyID level data\"\"\"\n",
    "train = orders[orders.OrderDate<=20070630].groupby(by=[\"HH_ID\", \"CompanyID\"]).agg({\"OrderNum\": 'nunique', 'Dollars': 'sum'})\n",
    "train.reset_index(inplace=True)\n",
    "print(len(train))\n",
    "train.sample(1)"
   ]
  },
  {
   "cell_type": "code",
   "execution_count": 11,
   "metadata": {
    "collapsed": false
   },
   "outputs": [
    {
     "data": {
      "text/html": [
       "<div>\n",
       "<table border=\"1\" class=\"dataframe\">\n",
       "  <thead>\n",
       "    <tr style=\"text-align: right;\">\n",
       "      <th></th>\n",
       "      <th>HH_ID</th>\n",
       "      <th>CompanyID</th>\n",
       "      <th>OrderNum</th>\n",
       "      <th>Dollars</th>\n",
       "      <th>logDollar</th>\n",
       "      <th>logOrder</th>\n",
       "    </tr>\n",
       "  </thead>\n",
       "  <tbody>\n",
       "    <tr>\n",
       "      <th>3849536</th>\n",
       "      <td>1480751</td>\n",
       "      <td>798</td>\n",
       "      <td>1</td>\n",
       "      <td>156</td>\n",
       "      <td>5.049856</td>\n",
       "      <td>0.0</td>\n",
       "    </tr>\n",
       "  </tbody>\n",
       "</table>\n",
       "</div>"
      ],
      "text/plain": [
       "           HH_ID  CompanyID  OrderNum  Dollars  logDollar  logOrder\n",
       "3849536  1480751        798         1      156   5.049856       0.0"
      ]
     },
     "execution_count": 11,
     "metadata": {},
     "output_type": "execute_result"
    }
   ],
   "source": [
    "\"\"\"rating as log() \"\"\"\n",
    "import numpy as np\n",
    "train[\"logDollar\"] = np.log(train.Dollars)\n",
    "train[\"logOrder\"] = np.log(train.OrderNum)\n",
    "train.sample(1)"
   ]
  },
  {
   "cell_type": "code",
   "execution_count": 15,
   "metadata": {
    "collapsed": false
   },
   "outputs": [
    {
     "data": {
      "text/html": [
       "<div>\n",
       "<table border=\"1\" class=\"dataframe\">\n",
       "  <thead>\n",
       "    <tr style=\"text-align: right;\">\n",
       "      <th></th>\n",
       "      <th>HH_ID</th>\n",
       "      <th>CompanyID</th>\n",
       "      <th>OrderNum</th>\n",
       "      <th>Dollars</th>\n",
       "      <th>logDollar</th>\n",
       "      <th>logOrder</th>\n",
       "    </tr>\n",
       "  </thead>\n",
       "  <tbody>\n",
       "    <tr>\n",
       "      <th>2781550</th>\n",
       "      <td>925745</td>\n",
       "      <td>742</td>\n",
       "      <td>1.029126</td>\n",
       "      <td>1.007652</td>\n",
       "      <td>2.983882</td>\n",
       "      <td>2.293506</td>\n",
       "    </tr>\n",
       "  </tbody>\n",
       "</table>\n",
       "</div>"
      ],
      "text/plain": [
       "          HH_ID  CompanyID  OrderNum   Dollars  logDollar  logOrder\n",
       "2781550  925745        742  1.029126  1.007652   2.983882  2.293506"
      ]
     },
     "execution_count": 15,
     "metadata": {},
     "output_type": "execute_result"
    }
   ],
   "source": [
    "\"\"\"MinMax Scalling\"\"\"\n",
    "from sklearn.preprocessing import MinMaxScaler\n",
    "scaler = MinMaxScaler(feature_range=(1, 5))\n",
    "cols = [\"OrderNum\",\"Dollars\",\"logOrder\",\"logDollar\"]\n",
    "scale_train = train.copy()\n",
    "scale_train[cols] = scaler.fit_transform(scale_train[cols])\n",
    "scale_train.sample(1)"
   ]
  },
  {
   "cell_type": "code",
   "execution_count": 18,
   "metadata": {
    "collapsed": false
   },
   "outputs": [
    {
     "name": "stdout",
     "output_type": "stream",
     "text": [
      "train_num.txt\n",
      "train_dol.txt\n",
      "train_num_log.txt\n",
      "train_dol_log.txt\n"
     ]
    }
   ],
   "source": [
    "\"\"\" save as format required by recommender library\"\"\"\n",
    "for col in [\"OrderNum\",\"Dollars\",\"logOrder\",\"logDollar\"]:\n",
    "    cols = [\"CompanyID\",\"HH_ID\", col]\n",
    "    measure = \"dol\" if \"Dollar\" in col else \"num\"\n",
    "    transformation = \"_log\" if \"log\" in col else \"\"\n",
    "    file_name = \"train_\" + measure + transformation + \".txt\"\n",
    "    print(file_name)\n",
    "    train[cols].to_csv(file_name, index=False, header=False,sep=\"\\t\", quoting=csv.QUOTE_NONE )\n",
    "    scale_train[cols].to_csv(\"scale_\"+file_name, index=False, header=False,sep=\"\\t\", quoting=csv.QUOTE_NONE )"
   ]
  },
  {
   "cell_type": "code",
   "execution_count": 19,
   "metadata": {
    "collapsed": false
   },
   "outputs": [
    {
     "name": "stdout",
     "output_type": "stream",
     "text": [
      "82328\n"
     ]
    },
    {
     "data": {
      "text/html": [
       "<div>\n",
       "<table border=\"1\" class=\"dataframe\">\n",
       "  <thead>\n",
       "    <tr style=\"text-align: right;\">\n",
       "      <th></th>\n",
       "      <th>HH_ID</th>\n",
       "      <th>CompanyID</th>\n",
       "      <th>OrderNum</th>\n",
       "      <th>Dollars</th>\n",
       "    </tr>\n",
       "  </thead>\n",
       "  <tbody>\n",
       "    <tr>\n",
       "      <th>33283</th>\n",
       "      <td>864034</td>\n",
       "      <td>36</td>\n",
       "      <td>5</td>\n",
       "      <td>553</td>\n",
       "    </tr>\n",
       "  </tbody>\n",
       "</table>\n",
       "</div>"
      ],
      "text/plain": [
       "        HH_ID  CompanyID  OrderNum  Dollars\n",
       "33283  864034         36         5      553"
      ]
     },
     "execution_count": 19,
     "metadata": {},
     "output_type": "execute_result"
    }
   ],
   "source": [
    "\"\"\" Customers contributing to company 36's revenue in testing period \"\"\"\n",
    "company = 36\n",
    "test = orders[(orders.OrderDate>20070630) & (orders.CompanyID==company)].groupby(by=[\"HH_ID\", \"CompanyID\"]).agg({\"OrderNum\": 'nunique', 'Dollars': 'sum'})\n",
    "test.reset_index(inplace=True)\n",
    "print(len(test))\n",
    "test.sample(1)"
   ]
  },
  {
   "cell_type": "code",
   "execution_count": 41,
   "metadata": {
    "collapsed": false
   },
   "outputs": [
    {
     "name": "stdout",
     "output_type": "stream",
     "text": [
      "1950780\n"
     ]
    },
    {
     "data": {
      "text/html": [
       "<div>\n",
       "<table border=\"1\" class=\"dataframe\">\n",
       "  <thead>\n",
       "    <tr style=\"text-align: right;\">\n",
       "      <th></th>\n",
       "      <th>HH_ID</th>\n",
       "      <th>CompanyID</th>\n",
       "      <th>OrderNum</th>\n",
       "      <th>Dollars</th>\n",
       "    </tr>\n",
       "  </thead>\n",
       "  <tbody>\n",
       "    <tr>\n",
       "      <th>0</th>\n",
       "      <td>1913674</td>\n",
       "      <td>36</td>\n",
       "      <td>18.0</td>\n",
       "      <td>2323.0</td>\n",
       "    </tr>\n",
       "    <tr>\n",
       "      <th>1</th>\n",
       "      <td>1240677</td>\n",
       "      <td>36</td>\n",
       "      <td>4.0</td>\n",
       "      <td>1718.0</td>\n",
       "    </tr>\n",
       "    <tr>\n",
       "      <th>2</th>\n",
       "      <td>140008</td>\n",
       "      <td>36</td>\n",
       "      <td>3.0</td>\n",
       "      <td>1155.0</td>\n",
       "    </tr>\n",
       "  </tbody>\n",
       "</table>\n",
       "</div>"
      ],
      "text/plain": [
       "     HH_ID CompanyID  OrderNum  Dollars\n",
       "0  1913674        36      18.0   2323.0\n",
       "1  1240677        36       4.0   1718.0\n",
       "2   140008        36       3.0   1155.0"
      ]
     },
     "execution_count": 41,
     "metadata": {},
     "output_type": "execute_result"
    }
   ],
   "source": [
    "\"\"\" Recomended Customers \"\"\"\n",
    "recommended_hh = pd.DataFrame({'HH_ID': list(set(train.HH_ID)-set(train[train.CompanyID==company].HH_ID))})\n",
    "test_output  = pd.merge(recommended_hh,test,how='left', on = [\"HH_ID\"])\n",
    "test_output[\"HH_ID\"] = test_output[\"HH_ID\"].astype(int).astype('str')\n",
    "test_output[\"CompanyID\"] = str(company)\n",
    "test_output = test_output.fillna(0).sort_values(by=\"Dollars\",ascending=False).reset_index(drop=True)\n",
    "print(len(test_output))\n",
    "test_output.head(3)"
   ]
  },
  {
   "cell_type": "code",
   "execution_count": 47,
   "metadata": {
    "collapsed": false
   },
   "outputs": [
    {
     "data": {
      "text/html": [
       "<div>\n",
       "<table border=\"1\" class=\"dataframe\">\n",
       "  <thead>\n",
       "    <tr style=\"text-align: right;\">\n",
       "      <th></th>\n",
       "      <th>HH_ID</th>\n",
       "      <th>CompanyID</th>\n",
       "      <th>OrderNum</th>\n",
       "      <th>Dollars</th>\n",
       "      <th>logDollar</th>\n",
       "      <th>logOrder</th>\n",
       "    </tr>\n",
       "  </thead>\n",
       "  <tbody>\n",
       "    <tr>\n",
       "      <th>220296</th>\n",
       "      <td>1754861</td>\n",
       "      <td>36</td>\n",
       "      <td>0.0</td>\n",
       "      <td>0.0</td>\n",
       "      <td>0.0</td>\n",
       "      <td>0.0</td>\n",
       "    </tr>\n",
       "  </tbody>\n",
       "</table>\n",
       "</div>"
      ],
      "text/plain": [
       "          HH_ID CompanyID  OrderNum  Dollars  logDollar  logOrder\n",
       "220296  1754861        36       0.0      0.0        0.0       0.0"
      ]
     },
     "execution_count": 47,
     "metadata": {},
     "output_type": "execute_result"
    }
   ],
   "source": [
    "\"\"\"rating as log(measure+1) \"\"\"\n",
    "import numpy as np\n",
    "test_output[\"logDollar\"] = np.log(test_output.Dollars+1) # To prevent -inf from appearing\n",
    "test_output[\"logOrder\"] = np.log(test_output.OrderNum+1)\n",
    "test_output.sample(1)"
   ]
  },
  {
   "cell_type": "code",
   "execution_count": 48,
   "metadata": {
    "collapsed": false
   },
   "outputs": [
    {
     "data": {
      "text/html": [
       "<div>\n",
       "<table border=\"1\" class=\"dataframe\">\n",
       "  <thead>\n",
       "    <tr style=\"text-align: right;\">\n",
       "      <th></th>\n",
       "      <th>HH_ID</th>\n",
       "      <th>CompanyID</th>\n",
       "      <th>OrderNum</th>\n",
       "      <th>Dollars</th>\n",
       "      <th>logDollar</th>\n",
       "      <th>logOrder</th>\n",
       "    </tr>\n",
       "  </thead>\n",
       "  <tbody>\n",
       "    <tr>\n",
       "      <th>1843894</th>\n",
       "      <td>883680</td>\n",
       "      <td>36</td>\n",
       "      <td>1.0</td>\n",
       "      <td>1.0</td>\n",
       "      <td>1.0</td>\n",
       "      <td>1.0</td>\n",
       "    </tr>\n",
       "  </tbody>\n",
       "</table>\n",
       "</div>"
      ],
      "text/plain": [
       "          HH_ID CompanyID  OrderNum  Dollars  logDollar  logOrder\n",
       "1843894  883680        36       1.0      1.0        1.0       1.0"
      ]
     },
     "execution_count": 48,
     "metadata": {},
     "output_type": "execute_result"
    }
   ],
   "source": [
    "\"\"\"MinMax Scalling \"\"\"\n",
    "from sklearn.preprocessing import MinMaxScaler\n",
    "scaler = MinMaxScaler(feature_range=(1, 5))\n",
    "cols = [\"OrderNum\",\"Dollars\",\"logOrder\",\"logDollar\"]\n",
    "scale_test_output = test_output.copy()\n",
    "scale_test_output[cols] = scaler.fit_transform(scale_test_output[cols])\n",
    "scale_test_output.sample(1)"
   ]
  },
  {
   "cell_type": "code",
   "execution_count": 52,
   "metadata": {
    "collapsed": false
   },
   "outputs": [
    {
     "name": "stdout",
     "output_type": "stream",
     "text": [
      "test_num.txt\n",
      "test_dol.txt\n",
      "test_num_log.txt\n",
      "test_dol_log.txt\n"
     ]
    }
   ],
   "source": [
    "\"\"\" save to format required by recommender library\"\"\"\n",
    "for col in [\"OrderNum\",\"Dollars\",\"logOrder\",\"logDollar\"]:\n",
    "    cols = [\"CompanyID\",\"HH_ID\", col]\n",
    "    measure = \"dol\" if \"Dollar\" in col else \"num\"\n",
    "    transformation = \"_log\" if \"log\" in col else \"\"\n",
    "    file_name = \"test_\" + measure + transformation  + \".txt\"\n",
    "    print(file_name)\n",
    "    test_output[cols].to_csv(file_name, index=False, header=False,sep=\"\\t\", quoting=csv.QUOTE_NONE )\n",
    "    scale_test_output[cols].to_csv(\"scale_\"+file_name, index=False, header=False,sep=\"\\t\", quoting=csv.QUOTE_NONE )"
   ]
  },
  {
   "cell_type": "code",
   "execution_count": 53,
   "metadata": {
    "collapsed": false
   },
   "outputs": [
    {
     "name": "stdout",
     "output_type": "stream",
     "text": [
      "train_num.txt\n",
      "train_dol.txt\n",
      "train_num_log.txt\n",
      "train_dol_log.txt\n"
     ]
    }
   ],
   "source": [
    "\"\"\" save as format required by recommender library\"\"\"\n",
    "for col in [\"OrderNum\",\"Dollars\",\"logOrder\",\"logDollar\"]:\n",
    "    cols = [\"CompanyID\",\"HH_ID\", col]\n",
    "    measure = \"dol\" if \"Dollar\" in col else \"num\"\n",
    "    transformation = \"_log\" if \"log\" in col else \"\"\n",
    "    file_name = \"train_\" + measure + transformation + \".txt\"\n",
    "    print(file_name)\n",
    "    train[cols].to_csv(file_name, index=False, header=False,sep=\"\\t\", quoting=csv.QUOTE_NONE )\n",
    "    scale_train[cols].to_csv(\"scale_\"+file_name, index=False, header=False,sep=\"\\t\", quoting=csv.QUOTE_NONE )"
   ]
  }
 ],
 "metadata": {
  "anaconda-cloud": {},
  "kernelspec": {
   "display_name": "Python [Root]",
   "language": "python",
   "name": "Python [Root]"
  },
  "language_info": {
   "codemirror_mode": {
    "name": "ipython",
    "version": 3
   },
   "file_extension": ".py",
   "mimetype": "text/x-python",
   "name": "python",
   "nbconvert_exporter": "python",
   "pygments_lexer": "ipython3",
   "version": "3.5.2"
  }
 },
 "nbformat": 4,
 "nbformat_minor": 0
}
