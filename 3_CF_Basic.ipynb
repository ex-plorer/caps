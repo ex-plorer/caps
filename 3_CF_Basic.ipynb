{
 "cells": [
  {
   "cell_type": "markdown",
   "metadata": {},
   "source": [
    "## Collaborative Filtering Recommenders \n",
    "Aim: to recomend company with new custmers of potential high spendings in the company \n",
    "> By modify dol-related worthiness score designed (i.e. rating by company for customers)\n",
    "\n",
    "\n",
    "### Python Surprise library, with suitable Visual Studios depending on Python versions\n",
    "http://surprise.readthedocs.io/en/v1.0.2/\n",
    "    > $ pip install numpy scikit-surprise\n"
   ]
  },
  {
   "cell_type": "markdown",
   "metadata": {},
   "source": [
    "\n",
    "### Summary of I/O csv files\n",
    "\n",
    "Input Files\n",
    "    > \"train_dol.txt\"     - all company-customer level spendings in training period\n",
    "    > \"test_dol.txt\"      - potential customers with actual spendings in testing period for company 36\n",
    "    > \"scale_train_dol.txt\"    - min-max scaled\n",
    "    > \"scale_test_dol.txt\"     - min-max scaled\n",
    "    > \"train_dol_log.txt\"      - log transformed\n",
    "    > \"test_dol_log.txt\"       - log transformed\n",
    "    > \"scale_train_dol_log.txt\"- log transformed and min-max scaled\n",
    "    > \"scale_test_dol_log.txt\" - log transformed and min-max scaled\n",
    "\n",
    "Output Files\n",
    "\n",
    "    > Results and summary based on dollars, \"summary_\" \n",
    "    with_mean_cf_basics_knn_dol.csv\n",
    "    with_mean_cf_basics_svd_dol.csv\n",
    "    with_mean_cf_basics_cocluster_dol.csv\n",
    "    > Results and summary based on dollars with min-max scaling, \"summary_\" \n",
    "    actual_with_mean_cf_basics_knn_dolscale_.csv\n",
    "    actual_with_mean_cf_basics_svd_dolscale_.csv\n",
    "    actual_with_mean_cf_basics_cocluster_dolscale_.csv    \n",
    "    > Results and summary based on log-transformed dollars, \"summary_\"\n",
    "    actual_with_mean_cf_basics_knn_dol_log.csv\n",
    "    actual_with_mean_cf_basics_svd_dol_log.csv\n",
    "    actual_with_mean_cf_basics_cocluster_dol_log.csv    \n",
    "    > Results and summary based on log-transformed dollars with min-max scaling, \"summary_\"\n",
    "    actual_with_mean_cf_basics_knn_dol_logscale_.csv\n",
    "    actual_with_mean_cf_basics_svd_dol_logscale_.csv\n",
    "    actual_with_mean_cf_basics_knn_dol_logscale_.csv"
   ]
  },
  {
   "cell_type": "markdown",
   "metadata": {
    "collapsed": true
   },
   "source": [
    "# Start with Dollars for both Train and Test"
   ]
  },
  {
   "cell_type": "code",
   "execution_count": 1,
   "metadata": {
    "collapsed": false
   },
   "outputs": [],
   "source": [
    "\"\"\" not scaled, dol\"\"\"\n",
    "from surprise import Dataset                                                      \n",
    "from surprise import Reader                                                      \n",
    "\n",
    "reader = Reader(line_format='user item rating', sep='\\t')\n",
    "measures = [\"dol\", \"dol_log\", \"num\", \"num_log\"]\n",
    "measure = measures[0] #\"dol\"\n",
    "\n",
    "train_file = \"train_\"+ measure +\".txt\"\n",
    "test_file = \"test_\"+ measure +\".txt\"\n",
    "\n",
    "# each line has the following format: 'user item rating', separated by '\\t' characters. #cols = [\"CompanyID\",\"HH_ID\",\"Dollars\"]\n",
    "reader = Reader(line_format='user item rating', sep='\\t')\n",
    "data = Dataset.load_from_folds([(train_file, test_file)], reader=reader)"
   ]
  },
  {
   "cell_type": "code",
   "execution_count": 2,
   "metadata": {
    "collapsed": true
   },
   "outputs": [],
   "source": [
    "from surprise.accuracy import rmse\n",
    "import numpy as np\n",
    "import pandas as pd\n",
    "import time\n",
    "\n",
    "def predict(algo):\n",
    "    for trainset, testset in data.folds():                                                       \n",
    "        algo.train(trainset)                             \n",
    "        predictions = algo.test(testset)\n",
    "        rmse(predictions)\n",
    "        return(predictions)\n",
    "\n",
    "def summarize(predictions,algo_name, measure):\n",
    "    scale = \"\" # else \"_scale\"\n",
    "    output_name = \"cf_basics_\" + algo_name + \"_\" + measure + scale + \".csv\"\n",
    "    results_df = pd.DataFrame.from_dict(predictions)\n",
    "    results_df = results_df.sort_values(by=\"est\",ascending=False).reset_index(drop=True)\n",
    "    results_df.columns = [\"CompanyID\", \"HH_ID\", \"ActualRevenue\",\"Dollars\",\"Details\"]\n",
    "    # Output to csv\n",
    "    results_df.to_csv(output_name, index=False)\n",
    "    print(output_name)\n",
    "    sample = results_df.ix[results_df.HH_ID=='343']\n",
    "    print(sample)\n",
    "    \"\"\" Summary Statitics, Mean_est_dol refers to worthiness\"\"\"\n",
    "    quant = [0,10,20,30,40,50,60,70,80,90,100]\n",
    "    quant_est = np.percentile(results_df.index,quant)\n",
    "    groups =  results_df.groupby(pd.cut(results_df.index, quant_est, include_lowest=True))\n",
    "    df4 = groups.agg({\"HH_ID\": 'count', 'Dollars': 'mean', \"ActualRevenue\":'mean'})\n",
    "    df4[\"percentile\"] = quant[1:]\n",
    "    df4 = df4[[\"percentile\", \"HH_ID\",\"Dollars\",\"ActualRevenue\"]]\n",
    "    # Output to csv\n",
    "    df4.to_csv(\"summary_\"+output_name, index=False)\n",
    "    \n",
    "def timer(start,end):\n",
    "    hours, rem = divmod(end-start, 3600)\n",
    "    minutes, seconds = divmod(rem, 60)\n",
    "    print(\"{:0>2}:{:0>2}:{:05.2f}\".format(int(hours),int(minutes),seconds))"
   ]
  },
  {
   "cell_type": "code",
   "execution_count": null,
   "metadata": {
    "collapsed": false
   },
   "outputs": [
    {
     "name": "stdout",
     "output_type": "stream",
     "text": [
      "Computing the msd similarity matrix...\n",
      "Done computing similarity matrix.\n",
      "RMSE: 9.9981\n",
      "cf_basics_knn_dol.csv\n",
      "        CompanyID HH_ID  ActualRevenue  Dollars  \\\n",
      "1303143        36   343           28.0      5.0   \n",
      "\n",
      "                                          Details  \n",
      "1303143  {'actual_k': 5, 'was_impossible': False}  \n",
      "00:31:58.28\n"
     ]
    }
   ],
   "source": [
    "\"\"\" knn basic\"\"\"\n",
    "from surprise import KNNBasic\n",
    "start = time.time()\n",
    "algo = KNNBasic()\n",
    "algo_name = \"knn\"\n",
    "predictions_knn = predict(algo)\n",
    "summarize(predictions_knn,algo_name,measure)\n",
    "timer(start,time.time()) "
   ]
  },
  {
   "cell_type": "code",
   "execution_count": 5,
   "metadata": {
    "collapsed": false
   },
   "outputs": [
    {
     "name": "stdout",
     "output_type": "stream",
     "text": [
      "RMSE: 9.9993\n",
      "cf_basics_svd_dol.csv\n",
      "        CompanyID HH_ID  ActualRevenue  Dollars                    Details\n",
      "1303976        36   343           28.0        5  {'was_impossible': False}\n",
      "00:27:26.20\n"
     ]
    }
   ],
   "source": [
    "\"\"\" SVD \"\"\"\n",
    "from surprise import SVD\n",
    "start = time.time()\n",
    "algo = SVD()\n",
    "algo_name = \"svd\"\n",
    "predictions_svd = predict(algo)\n",
    "summarize(predictions_svd,algo_name,measure)\n",
    "timer(start,time.time()) "
   ]
  },
  {
   "cell_type": "code",
   "execution_count": 4,
   "metadata": {
    "collapsed": false
   },
   "outputs": [
    {
     "name": "stdout",
     "output_type": "stream",
     "text": [
      "RMSE: 9.5782\n",
      "cf_basics_cocluster_dol.csv\n",
      "        CompanyID HH_ID  ActualRevenue  Dollars                    Details\n",
      "1390042        36   343           28.0      1.0  {'was_impossible': False}\n",
      "00:21:17.52\n"
     ]
    }
   ],
   "source": [
    "\"\"\"co clustering\"\"\"\n",
    "from surprise import CoClustering \n",
    "start = time.time()\n",
    "algo = CoClustering()                                                       \n",
    "algo_name = \"cocluster\"\n",
    "predictions_cc = predict(algo)\n",
    "summarize(predictions_cc,algo_name,measure)\n",
    "timer(start,time.time())"
   ]
  },
  {
   "cell_type": "markdown",
   "metadata": {
    "collapsed": true
   },
   "source": [
    "### Issue identified: \n",
    "> in some n*10th percentile, the predicted worthiness score are same but the actual revenue are very different \n",
    "\n",
    "> This is because the predicted worthness score may be the same for *toooo* many HH_ID, so they fall in different percentile bins.\n",
    "\n",
    "Resove this issue by：\n",
    "> Obtain the mean actual revenue for each group of predictions with the same worthiness score"
   ]
  },
  {
   "cell_type": "code",
   "execution_count": 28,
   "metadata": {
    "collapsed": false
   },
   "outputs": [],
   "source": [
    "\"\"\" Further Analysis：add mean to actual revenue for each group \"\"\"\n",
    "file_names = [\"cf_basics_knn_dol.csv\",\"cf_basics_svd_dol.csv\",\"cf_basics_cocluster_dol.csv\"]\n",
    "for file in file_names: \n",
    "    output_name = \"with_mean_\" + file\n",
    "    print(output_name)\n",
    "    results_df = pd.read_csv(file)\n",
    "    results_df = results_df.join(results_df.groupby('Dollars')['ActualRevenue'].mean(), on='Dollars', rsuffix='Mean')\n",
    "    # Output to csv\n",
    "    results_df.to_csv(output_name, index=False)    \n",
    "    # Summary statistics\n",
    "    quant = [0,10,20,30,40,50,60,70,80,90,100]\n",
    "    quant_est = np.percentile(results_df.index,quant)\n",
    "    groups =  results_df.groupby(pd.cut(results_df.index, quant_est, include_lowest=True))\n",
    "    df4 = groups.agg({\"HH_ID\": 'count', 'Dollars': 'mean', \"ActualRevenueMean\":'mean'})\n",
    "    df4[\"percentile\"] = quant[1:]\n",
    "    df4 = df4[[\"percentile\", \"HH_ID\",\"Dollars\",\"ActualRevenueMean\"]]\n",
    "    # Output to csv\n",
    "    df4.to_csv(\"summary_\"+output_name, index=False)"
   ]
  },
  {
   "cell_type": "markdown",
   "metadata": {},
   "source": [
    "#### Plot accumulative average dollars vs number of potential customer recommeded\n"
   ]
  },
  {
   "cell_type": "code",
   "execution_count": 96,
   "metadata": {
    "collapsed": false
   },
   "outputs": [
    {
     "data": {
      "text/plain": [
       "<matplotlib.figure.Figure at 0x2203f8d2a58>"
      ]
     },
     "metadata": {},
     "output_type": "display_data"
    },
    {
     "data": {
      "image/png": "[encoded data removed]",
      "text/plain": [
       "<matplotlib.figure.Figure at 0x2203f9b8400>"
      ]
     },
     "metadata": {},
     "output_type": "display_data"
    }
   ],
   "source": [
    "%matplotlib inline\n",
    "import matplotlib.pyplot as plt\n",
    "list_ = []\n",
    "algo_names = [\"knn\",\"svd\",\"cocluster\"]\n",
    "for algo_name in algo_names:\n",
    "    file_name = \"with_mean_cf_basics_\"+ algo_name + \"_dol.csv\"\n",
    "    predictions = pd.read_csv(file_name)\n",
    "    # (Actual Revenue Mean) CumSum\n",
    "    algo_name = algo_name+\"_dol\"\n",
    "    predictions[algo_name] = predictions.ActualRevenueMean.cumsum()\n",
    "    list_.append(predictions[algo_name])\n",
    "plt.figure()\n",
    "graph = pd.concat(list_, axis=1) ## (Actual Revenue Mean) CumSum\n",
    "graph.plot(title='Acquisition Profitability Graph')\n",
    "plt.xlabel('Number of HH_ID')\n",
    "plt.ylabel('Cumulative Revenue')\n",
    "plt.savefig(\"dol_as_score_acquisition_profitability_curve.jpeg\")"
   ]
  },
  {
   "cell_type": "code",
   "execution_count": null,
   "metadata": {
    "collapsed": true
   },
   "outputs": [],
   "source": []
  },
  {
   "cell_type": "code",
   "execution_count": null,
   "metadata": {
    "collapsed": true
   },
   "outputs": [],
   "source": []
  },
  {
   "cell_type": "markdown",
   "metadata": {
    "collapsed": true
   },
   "source": [
    "# Step 2:  Scale Dollars for both Train and Test"
   ]
  },
  {
   "cell_type": "code",
   "execution_count": 39,
   "metadata": {
    "collapsed": false
   },
   "outputs": [],
   "source": [
    "\"\"\" scaled, dol\"\"\"\n",
    "scale = \"scale_\"\n",
    "\n",
    "train_file = scale + \"train_\"+ measure +\".txt\"\n",
    "test_file = scale + \"test_\"+ measure +\".txt\"\n",
    "\n",
    "# each line has the following format: 'user item rating', separated by '\\t' characters. #cols = [\"CompanyID\",\"HH_ID\",\"Dollars\"]\n",
    "reader = Reader(line_format='user item rating', sep='\\t')\n",
    "data = Dataset.load_from_folds([(train_file, test_file)], reader=reader)"
   ]
  },
  {
   "cell_type": "code",
   "execution_count": 42,
   "metadata": {
    "collapsed": true
   },
   "outputs": [],
   "source": [
    "def summarize(predictions,algo_name, measure):\n",
    "    output_name = \"with_mean_\" + \"cf_basics_\" + algo_name + \"_\" + measure + scale + \".csv\"\n",
    "    results_df = pd.DataFrame.from_dict(predictions)\n",
    "    results_df = results_df.sort_values(by=\"est\",ascending=False).reset_index(drop=True)\n",
    "    results_df.columns = [\"CompanyID\", \"HH_ID\", \"ActualRevenue\",\"Dollars\",\"Details\"]\n",
    "    results_df = results_df.join(results_df.groupby('Dollars')['ActualRevenue'].mean(), on='Dollars', rsuffix='Mean')    \n",
    "    # Output to csv\n",
    "    results_df.to_csv(output_name, index=False)\n",
    "    print(output_name)\n",
    "    sample = results_df.ix[results_df.HH_ID=='343']\n",
    "    print(sample)"
   ]
  },
  {
   "cell_type": "code",
   "execution_count": 43,
   "metadata": {
    "collapsed": false
   },
   "outputs": [
    {
     "name": "stdout",
     "output_type": "stream",
     "text": [
      "RMSE: 0.0156\n",
      "with_mean_cf_basics_cocluster_dolscale_.csv\n",
      "        CompanyID HH_ID  ActualRevenue  Dollars                    Details  \\\n",
      "1303977        36   343       1.048214      1.0  {'was_impossible': False}   \n",
      "\n",
      "         ActualRevenueMean  \n",
      "1303977           1.001004  \n",
      "00:33:15.80\n"
     ]
    }
   ],
   "source": [
    "\"\"\"co clustering\"\"\"\n",
    "from surprise import CoClustering #http://surprise.readthedocs.io/en/latest/co_clustering.html\n",
    "start = time.time()\n",
    "algo = CoClustering()                                                       \n",
    "algo_name = \"cocluster\"\n",
    "predictions_cc = predict(algo)\n",
    "summarize(predictions_cc,algo_name,measure)\n",
    "timer(start,time.time())"
   ]
  },
  {
   "cell_type": "code",
   "execution_count": 45,
   "metadata": {
    "collapsed": false
   },
   "outputs": [
    {
     "name": "stdout",
     "output_type": "stream",
     "text": [
      "Computing the msd similarity matrix...\n",
      "Done computing similarity matrix.\n",
      "RMSE: 0.0166\n",
      "with_mean_cf_basics_knn_dolscale_.csv\n",
      "        CompanyID HH_ID  ActualRevenue   Dollars  \\\n",
      "1446135        36   343       1.048214  1.000822   \n",
      "\n",
      "                                          Details  ActualRevenueMean  \n",
      "1446135  {'actual_k': 5, 'was_impossible': False}           1.003444  \n",
      "00:06:49.02\n"
     ]
    }
   ],
   "source": [
    "\"\"\" knn basic\"\"\"\n",
    "from surprise import KNNBasic\n",
    "start = time.time()\n",
    "algo = KNNBasic()\n",
    "algo_name = \"knn\"\n",
    "predictions = predict(algo)\n",
    "summarize(predictions,algo_name,measure)\n",
    "timer(start,time.time()) # Python Notebook Shutted down for unknown reason, with csv files saved and results diaplayed"
   ]
  },
  {
   "cell_type": "code",
   "execution_count": 46,
   "metadata": {
    "collapsed": false
   },
   "outputs": [
    {
     "name": "stdout",
     "output_type": "stream",
     "text": [
      "RMSE: 0.0155\n",
      "with_mean_cf_basics_svd_dolscale_.csv\n",
      "        CompanyID HH_ID  ActualRevenue  Dollars                    Details  \\\n",
      "1895458        36   343       1.048214      1.0  {'was_impossible': False}   \n",
      "\n",
      "         ActualRevenueMean  \n",
      "1895458           1.000594  \n",
      "00:39:31.25\n"
     ]
    }
   ],
   "source": [
    "\"\"\" SVD \"\"\"\n",
    "from surprise import SVD\n",
    "start = time.time()\n",
    "algo = SVD()\n",
    "algo_name = \"svd\"\n",
    "predictions = predict(algo)\n",
    "summarize(predictions,algo_name,measure)\n",
    "timer(start,time.time()) "
   ]
  },
  {
   "cell_type": "code",
   "execution_count": 68,
   "metadata": {
    "collapsed": false
   },
   "outputs": [
    {
     "name": "stdout",
     "output_type": "stream",
     "text": [
      "actual_with_mean_cf_basics_knn_dolscale_.csv\n",
      "actual_with_mean_cf_basics_svd_dolscale_.csv\n",
      "actual_with_mean_cf_basics_cocluster_dolscale_.csv\n"
     ]
    }
   ],
   "source": [
    "\"\"\" Further Analysis：add mean to actual revenue for each group \"\"\"\n",
    "\"\"\" Reference to another file to get actual revenue, genreal popularity is used here\"\"\"\n",
    "df = pd.read_csv(\"popularity_company_36.csv\")\n",
    "\n",
    "algo_names = [\"knn\",\"svd\",\"cocluster\"]\n",
    "for algo_name in algo_names:\n",
    "    file_name = \"with_mean_cf_basics_\"+algo_name+\"_dolscale_.csv\"\n",
    "    results_df = pd.read_csv(file_name)    \n",
    "    results_df = results_df[['HH_ID', 'Dollars']]\n",
    "    results_df.columns = ['HH_ID', 'Score']\n",
    "    result = pd.merge(results_df, df[['HH_ID', 'ActualRevenue']], on='HH_ID')\n",
    "    results_df = result.join(result.groupby('Score')['ActualRevenue'].mean(), on='Score', rsuffix='Mean')    \n",
    "    #Output to csv\n",
    "    output_name = \"actual_\" + file_name\n",
    "    results_df.to_csv(output_name, index=False)\n",
    "    print(output_name)\n",
    "    # Summary to csv\n",
    "    quant = [0,10,20,30,40,50,60,70,80,90,100]\n",
    "    quant_est = np.percentile(results_df.index,quant)\n",
    "    groups =  results_df.groupby(pd.cut(results_df.index, quant_est, include_lowest=True))\n",
    "    df4 = groups.agg({\"HH_ID\": 'count', 'Score': 'mean', \"ActualRevenue\":'mean', \"ActualRevenueMean\":'mean'})\n",
    "    df4[\"percentile\"] = quant[1:]\n",
    "    df4 = df4[[\"percentile\", \"HH_ID\",\"Score\",\"ActualRevenue\",\"ActualRevenueMean\"]]\n",
    "    \n",
    "    df4.to_csv(\"summary_\"+output_name, index=False)"
   ]
  },
  {
   "cell_type": "markdown",
   "metadata": {},
   "source": [
    "#### Plot accumulative average dollars vs number of potential customer recommeded\n"
   ]
  },
  {
   "cell_type": "code",
   "execution_count": 97,
   "metadata": {
    "collapsed": false
   },
   "outputs": [
    {
     "data": {
      "text/plain": [
       "<matplotlib.figure.Figure at 0x2204037cc88>"
      ]
     },
     "metadata": {},
     "output_type": "display_data"
    },
    {
     "data": {
      "image/png": "[encoded data removed]",
      "text/plain": [
       "<matplotlib.figure.Figure at 0x2203e10d0b8>"
      ]
     },
     "metadata": {},
     "output_type": "display_data"
    }
   ],
   "source": [
    "%matplotlib inline\n",
    "import matplotlib.pyplot as plt\n",
    "list_ = []\n",
    "algo_names = [\"knn\",\"svd\",\"cocluster\"]\n",
    "for algo_name in algo_names:\n",
    "    file_name = \"actual_with_mean_cf_basics_\"+ algo_name + \"_dolscale_.csv\"\n",
    "    predictions = pd.read_csv(file_name)\n",
    "    # (Actual Revenue Mean) CumSum\n",
    "    algo_name = algo_name+\"_dol_scale\"\n",
    "    predictions[algo_name] = predictions.ActualRevenueMean.cumsum()\n",
    "    list_.append(predictions[algo_name])\n",
    "plt.figure()\n",
    "graph = pd.concat(list_, axis=1) ## (Actual Revenue Mean) CumSum\n",
    "graph.plot(title='Acquisition Profitability Graph')\n",
    "plt.xlabel('Number of HH_ID')\n",
    "plt.ylabel('Cumulative Revenue')\n",
    "plt.savefig(\"dol_scale_as_score_acquisition_profitability_curve.jpeg\")"
   ]
  },
  {
   "cell_type": "markdown",
   "metadata": {
    "collapsed": true
   },
   "source": [
    "# Step 3:  Log-trasformation Dollars for both Train and Test"
   ]
  },
  {
   "cell_type": "code",
   "execution_count": 71,
   "metadata": {
    "collapsed": false
   },
   "outputs": [],
   "source": [
    "\"\"\" not scaled, log dol\"\"\"\n",
    "scale = \"\"\n",
    "measures = [\"dol\", \"dol_log\", \"num\", \"num_log\"]\n",
    "measure = measures[1] #\"dol_log\"\n",
    "\n",
    "train_file = scale + \"train_\"+ measure +\".txt\"\n",
    "test_file = scale + \"test_\"+ measure +\".txt\"\n",
    "\n",
    "# each line has the following format: 'user item rating', separated by '\\t' characters. #cols = [\"CompanyID\",\"HH_ID\",\"Dollars\"]\n",
    "reader = Reader(line_format='user item rating', sep='\\t')\n",
    "data = Dataset.load_from_folds([(train_file, test_file)], reader=reader)"
   ]
  },
  {
   "cell_type": "code",
   "execution_count": 73,
   "metadata": {
    "collapsed": true
   },
   "outputs": [],
   "source": [
    "def summarize(predictions,algo_name, measure):\n",
    "    output_name = \"cf_basics_\" + algo_name + \"_\" + measure + scale + \".csv\"\n",
    "    results_df = pd.DataFrame.from_dict(predictions)\n",
    "    results_df = results_df.sort_values(by=\"est\",ascending=False).reset_index(drop=True)\n",
    "    results_df.columns = [\"CompanyID\", \"HH_ID\", \"ActualLogRevenue\",\"Score\",\"Details\"]\n",
    "    # Output to csv\n",
    "    results_df.to_csv(output_name, index=False)\n",
    "    print(output_name)\n",
    "    sample = results_df.ix[results_df.HH_ID=='343']\n",
    "    print(sample)"
   ]
  },
  {
   "cell_type": "code",
   "execution_count": 74,
   "metadata": {
    "collapsed": false
   },
   "outputs": [
    {
     "name": "stdout",
     "output_type": "stream",
     "text": [
      "RMSE: 3.5792\n",
      "cf_basics_cocluster_dol_log.csv\n",
      "        CompanyID HH_ID  ActualLogRevenue     Score                    Details\n",
      "1635084        36   343          3.367296  2.279622  {'was_impossible': False}\n",
      "00:34:53.14\n"
     ]
    }
   ],
   "source": [
    "\"\"\"co clustering\"\"\"\n",
    "from surprise import CoClustering #http://surprise.readthedocs.io/en/latest/co_clustering.html\n",
    "start = time.time()\n",
    "algo = CoClustering()                                                       \n",
    "algo_name = \"cocluster\"\n",
    "predictions = predict(algo)\n",
    "summarize(predictions,algo_name,measure)\n",
    "timer(start,time.time())"
   ]
  },
  {
   "cell_type": "code",
   "execution_count": 76,
   "metadata": {
    "collapsed": false
   },
   "outputs": [
    {
     "name": "stdout",
     "output_type": "stream",
     "text": [
      "Computing the msd similarity matrix...\n",
      "Done computing similarity matrix.\n",
      "RMSE: 4.3425\n",
      "cf_basics_knn_dol_log.csv\n",
      "        CompanyID HH_ID  ActualLogRevenue     Score  \\\n",
      "1664903        36   343          3.367296  3.451028   \n",
      "\n",
      "                                          Details  \n",
      "1664903  {'actual_k': 5, 'was_impossible': False}  \n",
      "00:07:19.17\n"
     ]
    }
   ],
   "source": [
    "\"\"\" knn basic\"\"\"\n",
    "from surprise import KNNBasic\n",
    "start = time.time()\n",
    "algo = KNNBasic()\n",
    "algo_name = \"knn\"\n",
    "predictions = predict(algo)\n",
    "summarize(predictions,algo_name,measure)\n",
    "timer(start,time.time()) # Python Notebook Shutted down for unknown reason, with csv files saved and results diaplayed"
   ]
  },
  {
   "cell_type": "code",
   "execution_count": 77,
   "metadata": {
    "collapsed": false
   },
   "outputs": [
    {
     "name": "stdout",
     "output_type": "stream",
     "text": [
      "RMSE: 3.7073\n",
      "cf_basics_svd_dol_log.csv\n",
      "        CompanyID HH_ID  ActualLogRevenue     Score                    Details\n",
      "1724864        36   343          3.367296  3.546063  {'was_impossible': False}\n",
      "00:43:18.58\n"
     ]
    }
   ],
   "source": [
    "\"\"\" SVD \"\"\"\n",
    "from surprise import SVD\n",
    "start = time.time()\n",
    "algo = SVD()\n",
    "algo_name = \"svd\"\n",
    "predictions = predict(algo)\n",
    "summarize(predictions,algo_name,measure)\n",
    "timer(start,time.time()) "
   ]
  },
  {
   "cell_type": "code",
   "execution_count": 78,
   "metadata": {
    "collapsed": false
   },
   "outputs": [
    {
     "name": "stdout",
     "output_type": "stream",
     "text": [
      "actual_with_mean_cf_basics_knn_dol_log.csv\n",
      "actual_with_mean_cf_basics_svd_dol_log.csv\n",
      "actual_with_mean_cf_basics_cocluster_dol_log.csv\n"
     ]
    }
   ],
   "source": [
    "\"\"\" Further Analysis：add mean to actual revenue for each group \"\"\"\n",
    "algo_names = [\"knn\",\"svd\",\"cocluster\"]\n",
    "for algo_name in algo_names:\n",
    "    file_name = \"cf_basics_\"+algo_name+\"_dol_log.csv\"\n",
    "    results_df = pd.read_csv(file_name)    #[\"CompanyID\", \"HH_ID\", \"ActualLogRevenue\",\"Score\",\"Details\"]\n",
    "    results_df = results_df[['HH_ID', 'Score']]\n",
    "    result = pd.merge(results_df, df[['HH_ID', 'ActualRevenue']], on='HH_ID')\n",
    "    results_df = result.join(result.groupby('Score')['ActualRevenue'].mean(), on='Score', rsuffix='Mean')    \n",
    "    #Output to csv\n",
    "    output_name = \"actual_with_mean_\" + file_name\n",
    "    results_df.to_csv(output_name, index=False)\n",
    "    print(output_name)\n",
    "    # Summary to csv\n",
    "    quant = [0,10,20,30,40,50,60,70,80,90,100]\n",
    "    quant_est = np.percentile(results_df.index,quant)\n",
    "    groups =  results_df.groupby(pd.cut(results_df.index, quant_est, include_lowest=True))\n",
    "    df4 = groups.agg({\"HH_ID\": 'count', 'Score': 'mean', \"ActualRevenue\":'mean', \"ActualRevenueMean\":'mean'})\n",
    "    df4[\"percentile\"] = quant[1:]\n",
    "    df4 = df4[[\"percentile\", \"HH_ID\",\"Score\",\"ActualRevenue\",\"ActualRevenueMean\"]]    \n",
    "    df4.to_csv(\"summary_\"+output_name, index=False)"
   ]
  },
  {
   "cell_type": "markdown",
   "metadata": {},
   "source": [
    "#### Plot accumulative average dollars vs number of potential customer recommeded\n"
   ]
  },
  {
   "cell_type": "code",
   "execution_count": null,
   "metadata": {
    "collapsed": false
   },
   "outputs": [],
   "source": [
    "%matplotlib inline\n",
    "import matplotlib.pyplot as plt\n",
    "list_ = []\n",
    "algo_names = [\"knn\",\"svd\",\"cocluster\"]\n",
    "for algo_name in algo_names:\n",
    "    file_name = \"actual_with_mean_cf_basics_\"+ algo_name + \"_dol_log.csv\"\n",
    "    predictions = pd.read_csv(file_name)\n",
    "    # (Actual Revenue Mean) CumSum\n",
    "    algo_name = algo_name+\"_dol_log\"\n",
    "    predictions[algo_name] = predictions.ActualRevenueMean.cumsum()\n",
    "    list_.append(predictions[algo_name])\n",
    "plt.figure()\n",
    "graph = pd.concat(list_, axis=1) ## (Actual Revenue Mean) CumSum\n",
    "graph.plot(title='Acquisition Profitability Graph')\n",
    "plt.xlabel('Number of HH_ID')\n",
    "plt.ylabel('Cumulative Revenue')\n",
    "plt.savefig(\"dol_log_as_score_acquisition_profitability_curve.jpeg\")"
   ]
  },
  {
   "cell_type": "code",
   "execution_count": null,
   "metadata": {
    "collapsed": true
   },
   "outputs": [],
   "source": []
  },
  {
   "cell_type": "markdown",
   "metadata": {
    "collapsed": true
   },
   "source": [
    "# Step 4:  Min-Max Scalling of LogDollars for both Train and Test"
   ]
  },
  {
   "cell_type": "code",
   "execution_count": 80,
   "metadata": {
    "collapsed": false
   },
   "outputs": [],
   "source": [
    "\"\"\" Sscaled, log dol\"\"\"\n",
    "scale = \"scale_\"\n",
    "measures = [\"dol\", \"dol_log\", \"num\", \"num_log\"]\n",
    "measure = measures[1] #\"dol_log\"\n",
    "\n",
    "train_file = scale + \"train_\"+ measure +\".txt\"\n",
    "test_file = scale + \"test_\"+ measure +\".txt\"\n",
    "\n",
    "# each line has the following format: 'user item rating', separated by '\\t' characters. #cols = [\"CompanyID\",\"HH_ID\",\"Dollars\"]\n",
    "reader = Reader(line_format='user item rating', sep='\\t')\n",
    "data = Dataset.load_from_folds([(train_file, test_file)], reader=reader)"
   ]
  },
  {
   "cell_type": "code",
   "execution_count": 81,
   "metadata": {
    "collapsed": false
   },
   "outputs": [
    {
     "name": "stdout",
     "output_type": "stream",
     "text": [
      "Computing the msd similarity matrix...\n",
      "Done computing similarity matrix.\n",
      "RMSE: 1.4845\n",
      "cf_basics_knn_dol_logscale_.csv\n",
      "        CompanyID HH_ID  ActualLogRevenue    Score  \\\n",
      "1665622        36   343          2.737725  2.11481   \n",
      "\n",
      "                                          Details  \n",
      "1665622  {'actual_k': 5, 'was_impossible': False}  \n",
      "00:04:32.74\n"
     ]
    }
   ],
   "source": [
    "\"\"\" knn basic\"\"\"\n",
    "from surprise import KNNBasic\n",
    "start = time.time()\n",
    "algo = KNNBasic()\n",
    "algo_name = \"knn\"\n",
    "predictions = predict(algo)\n",
    "summarize(predictions,algo_name,measure)\n",
    "timer(start,time.time()) # Python Notebook Shutted down for unknown reason, with csv files saved and results diaplayed"
   ]
  },
  {
   "cell_type": "code",
   "execution_count": 82,
   "metadata": {
    "collapsed": false
   },
   "outputs": [
    {
     "name": "stdout",
     "output_type": "stream",
     "text": [
      "RMSE: 0.9245\n",
      "cf_basics_cocluster_dol_logscale_.csv\n",
      "        CompanyID HH_ID  ActualLogRevenue     Score                    Details\n",
      "1806422        36   343          2.737725  1.302278  {'was_impossible': False}\n",
      "00:21:56.91\n"
     ]
    }
   ],
   "source": [
    "\"\"\"co clustering\"\"\"\n",
    "from surprise import CoClustering #http://surprise.readthedocs.io/en/latest/co_clustering.html\n",
    "start = time.time()\n",
    "algo = CoClustering()                                                       \n",
    "algo_name = \"cocluster\"\n",
    "predictions = predict(algo)\n",
    "summarize(predictions,algo_name,measure)\n",
    "timer(start,time.time())"
   ]
  },
  {
   "cell_type": "code",
   "execution_count": 83,
   "metadata": {
    "collapsed": false
   },
   "outputs": [
    {
     "name": "stdout",
     "output_type": "stream",
     "text": [
      "RMSE: 1.2045\n",
      "cf_basics_svd_dol_logscale_.csv\n",
      "        CompanyID HH_ID  ActualLogRevenue     Score                    Details\n",
      "1872385        36   343          2.737725  2.134053  {'was_impossible': False}\n",
      "00:30:49.54\n"
     ]
    }
   ],
   "source": [
    "\"\"\" SVD \"\"\"\n",
    "from surprise import SVD\n",
    "start = time.time()\n",
    "algo = SVD()\n",
    "algo_name = \"svd\"\n",
    "predictions = predict(algo)\n",
    "summarize(predictions,algo_name,measure)\n",
    "timer(start,time.time()) "
   ]
  },
  {
   "cell_type": "code",
   "execution_count": 84,
   "metadata": {
    "collapsed": false
   },
   "outputs": [
    {
     "name": "stdout",
     "output_type": "stream",
     "text": [
      "actual_with_mean_cf_basics_knn_dol_logscale_.csv\n",
      "actual_with_mean_cf_basics_svd_dol_logscale_.csv\n",
      "actual_with_mean_cf_basics_cocluster_dol_logscale_.csv\n"
     ]
    }
   ],
   "source": [
    "\"\"\" Further Analysis：add mean to actual revenue for each group \"\"\"\n",
    "algo_names = [\"knn\",\"svd\",\"cocluster\"]\n",
    "for algo_name in algo_names:\n",
    "    file_name = \"cf_basics_\"+algo_name+\"_dol_logscale_.csv\"\n",
    "    results_df = pd.read_csv(file_name)    #[\"CompanyID\", \"HH_ID\", \"ActualLogRevenue\",\"Score\",\"Details\"]\n",
    "    results_df = results_df[['HH_ID', 'Score']]\n",
    "    result = pd.merge(results_df, df[['HH_ID', 'ActualRevenue']], on='HH_ID')\n",
    "    results_df = result.join(result.groupby('Score')['ActualRevenue'].mean(), on='Score', rsuffix='Mean')    \n",
    "    #Output to csv\n",
    "    output_name = \"actual_with_mean_\" + file_name\n",
    "    results_df.to_csv(output_name, index=False)\n",
    "    print(output_name)\n",
    "    # Summary to csv\n",
    "    quant = [0,10,20,30,40,50,60,70,80,90,100]\n",
    "    quant_est = np.percentile(results_df.index,quant)\n",
    "    groups =  results_df.groupby(pd.cut(results_df.index, quant_est, include_lowest=True))\n",
    "    df4 = groups.agg({\"HH_ID\": 'count', 'Score': 'mean', \"ActualRevenue\":'mean', \"ActualRevenueMean\":'mean'})\n",
    "    df4[\"percentile\"] = quant[1:]\n",
    "    df4 = df4[[\"percentile\", \"HH_ID\",\"Score\",\"ActualRevenue\",\"ActualRevenueMean\"]]    \n",
    "    df4.to_csv(\"summary_\"+output_name, index=False)"
   ]
  },
  {
   "cell_type": "markdown",
   "metadata": {},
   "source": [
    "#### Plot accumulative average dollars vs number of potential customer recommeded\n"
   ]
  },
  {
   "cell_type": "code",
   "execution_count": 98,
   "metadata": {
    "collapsed": false
   },
   "outputs": [
    {
     "data": {
      "text/plain": [
       "<matplotlib.figure.Figure at 0x2203ff77da0>"
      ]
     },
     "metadata": {},
     "output_type": "display_data"
    },
    {
     "data": {
      "image/png": "[encoded data removed]",
      "text/plain": [
       "<matplotlib.figure.Figure at 0x2203e0fb6a0>"
      ]
     },
     "metadata": {},
     "output_type": "display_data"
    }
   ],
   "source": [
    "%matplotlib inline\n",
    "import matplotlib.pyplot as plt\n",
    "list_ = []\n",
    "algo_names = [\"knn\",\"svd\",\"cocluster\"]\n",
    "for algo_name in algo_names:\n",
    "    file_name = \"actual_with_mean_cf_basics_\"+ algo_name + \"_dol_logscale_.csv\"\n",
    "    predictions = pd.read_csv(file_name)\n",
    "    # (Actual Revenue Mean) CumSum\n",
    "    algo_name = algo_name+\"_dol_log_scale\"\n",
    "    predictions[algo_name] = predictions.ActualRevenueMean.cumsum()\n",
    "    list_.append(predictions[algo_name])\n",
    "plt.figure()\n",
    "graph = pd.concat(list_, axis=1) ## (Actual Revenue Mean) CumSum\n",
    "graph.plot(title='Acquisition Profitability Graph')\n",
    "plt.xlabel('Number of HH_ID')\n",
    "plt.ylabel('Cumulative Revenue')\n",
    "plt.savefig(\"dol_log_scale_as_score_acquisition_profitability_curve.jpeg\")"
   ]
  },
  {
   "cell_type": "code",
   "execution_count": null,
   "metadata": {
    "collapsed": true
   },
   "outputs": [],
   "source": []
  }
 ],
 "metadata": {
  "anaconda-cloud": {},
  "kernelspec": {
   "display_name": "Python [Root]",
   "language": "python",
   "name": "Python [Root]"
  },
  "language_info": {
   "codemirror_mode": {
    "name": "ipython",
    "version": 3
   },
   "file_extension": ".py",
   "mimetype": "text/x-python",
   "name": "python",
   "nbconvert_exporter": "python",
   "pygments_lexer": "ipython3",
   "version": "3.5.2"
  }
 },
 "nbformat": 4,
 "nbformat_minor": 0
}
