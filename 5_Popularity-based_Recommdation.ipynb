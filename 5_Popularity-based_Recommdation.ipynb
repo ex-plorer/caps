{
 "cells": [
  {
   "cell_type": "markdown",
   "metadata": {},
   "source": [
    "## Popularity-based Recommenders\n",
    "Aim: to recommend company with new custmers of potentially high spendings in the company \n",
    "> By total spending, weighted spending in the company's top areas / categories\n",
    "\n",
    "### Summary of I/O csv files\n",
    "\n",
    "Input Files\n",
    "    > 'area.csv'     - product area code & descripton\n",
    "    > 'caregory.csv' - product sub-category...\n",
    "    > 'company_area_percentage.csv'         - percentage revenue for company by product areas\n",
    "    > 'company_category_percentage.csv'     - ... by product sub-category\n",
    "\n",
    "Output Files\n",
    "    > 'popularity_company_36.csv'              - customers recommended based on overall customer spending\n",
    "    > 'popularity_company_36_area.csv'         - ...on weighted customer spending in the company's top 3 areas\n",
    "    > 'popularity_company_36_category.csv'     - ...on weighted customer spending in the company's top 10 categoris\n",
    "    > 'summary_popularity_company_36.csv'           - summary: percentile-mean of actual revenue by recommended customers\n",
    "    > 'summary_popularity_company_36_area.csv'      - ...\n",
    "    > 'summary_popularity_company_36_category.csv'  - ...\n"
   ]
  },
  {
   "cell_type": "code",
   "execution_count": 2,
   "metadata": {
    "collapsed": false
   },
   "outputs": [
    {
     "name": "stdout",
     "output_type": "stream",
     "text": [
      "29200868\n"
     ]
    },
    {
     "data": {
      "text/html": [
       "<div>\n",
       "<table border=\"1\" class=\"dataframe\">\n",
       "  <thead>\n",
       "    <tr style=\"text-align: right;\">\n",
       "      <th></th>\n",
       "      <th>HH_ID</th>\n",
       "      <th>CompanyID</th>\n",
       "      <th>OrderNum</th>\n",
       "      <th>OrderDate</th>\n",
       "      <th>ProductArea</th>\n",
       "      <th>MajorCategory</th>\n",
       "      <th>Dollars</th>\n",
       "      <th>Quantity</th>\n",
       "      <th>Channel</th>\n",
       "    </tr>\n",
       "  </thead>\n",
       "  <tbody>\n",
       "    <tr>\n",
       "      <th>20548250</th>\n",
       "      <td>999442</td>\n",
       "      <td>795</td>\n",
       "      <td>12186948</td>\n",
       "      <td>20050830</td>\n",
       "      <td>6</td>\n",
       "      <td>40</td>\n",
       "      <td>13</td>\n",
       "      <td>1</td>\n",
       "      <td>C</td>\n",
       "    </tr>\n",
       "  </tbody>\n",
       "</table>\n",
       "</div>"
      ],
      "text/plain": [
       "           HH_ID  CompanyID  OrderNum  OrderDate  ProductArea  MajorCategory  \\\n",
       "20548250  999442        795  12186948   20050830            6             40   \n",
       "\n",
       "          Dollars  Quantity Channel  \n",
       "20548250       13         1       C  "
      ]
     },
     "execution_count": 2,
     "metadata": {},
     "output_type": "execute_result"
    }
   ],
   "source": [
    "\"\"\" Retriving data from mongodb\"\"\"\n",
    "import pandas as pd\n",
    "from pymongo import MongoClient\n",
    "\n",
    "def _connect_mongo(host, port, username, password, db):\n",
    "    \"\"\" A util for making a connection to mongo \"\"\"\n",
    "    if username and password:\n",
    "        mongo_uri = 'mongodb://%s:%s@%s:%s/%s' % (username, password, host, port, db)\n",
    "        conn = MongoClient(mongo_uri)\n",
    "    else:\n",
    "        conn = MongoClient(host, port)\n",
    "    return(conn[db])\n",
    "\n",
    "def read_mongo(db, collection, query={}, host='localhost', port=27017, username=None, password=None, no_id=True):\n",
    "    \"\"\" Read from Mongo and Store into DataFrame \"\"\"\n",
    "    # Connect to MongoDB\n",
    "    db = _connect_mongo(host=host, port=port, username=username, password=password, db=db)\n",
    "    cursor = db[collection].find(query)\n",
    "    df =  pd.DataFrame(list(cursor))\n",
    "    # Delete the _id\n",
    "    if no_id:\n",
    "        del df['_id']\n",
    "    return(df)\n",
    "\n",
    "lines_all = read_mongo(\"BT4221_DB\", \"Lines\")\n",
    "\n",
    "\"\"\"training data only\"\"\"\n",
    "lines = lines_all[lines_all.OrderDate<=20070630]\n",
    "print(len(lines)) \n",
    "lines.sample(1)"
   ]
  },
  {
   "cell_type": "markdown",
   "metadata": {},
   "source": [
    "# \n",
    "## Recomender 1: General Popularity of households\n",
    "\n",
    "> recomend new customers by their total spending in the training period (30 months)"
   ]
  },
  {
   "cell_type": "code",
   "execution_count": 3,
   "metadata": {
    "collapsed": false
   },
   "outputs": [
    {
     "data": {
      "text/html": [
       "<div>\n",
       "<table border=\"1\" class=\"dataframe\">\n",
       "  <thead>\n",
       "    <tr style=\"text-align: right;\">\n",
       "      <th></th>\n",
       "      <th>HH_ID</th>\n",
       "      <th>Dollars</th>\n",
       "    </tr>\n",
       "  </thead>\n",
       "  <tbody>\n",
       "    <tr>\n",
       "      <th>1707545</th>\n",
       "      <td>1939694</td>\n",
       "      <td>60</td>\n",
       "    </tr>\n",
       "  </tbody>\n",
       "</table>\n",
       "</div>"
      ],
      "text/plain": [
       "           HH_ID  Dollars\n",
       "1707545  1939694       60"
      ]
     },
     "execution_count": 3,
     "metadata": {},
     "output_type": "execute_result"
    }
   ],
   "source": [
    "\"\"\" Customers with spending in training period (sum all spending)\"\"\"\n",
    "df = lines.groupby(by=[\"HH_ID\"])['Dollars'].sum().to_frame().sort_values(by=\"Dollars\",ascending=False).reset_index()\n",
    "#file_name = \"hh_spending.csv\"\n",
    "#df.to_csv(file_name, index=False) \n",
    "df.sample(1)"
   ]
  },
  {
   "cell_type": "code",
   "execution_count": 4,
   "metadata": {
    "collapsed": false
   },
   "outputs": [
    {
     "name": "stdout",
     "output_type": "stream",
     "text": [
      "82328\n"
     ]
    },
    {
     "data": {
      "text/html": [
       "<div>\n",
       "<table border=\"1\" class=\"dataframe\">\n",
       "  <thead>\n",
       "    <tr style=\"text-align: right;\">\n",
       "      <th></th>\n",
       "      <th>HH_ID</th>\n",
       "      <th>ActualRevenue</th>\n",
       "    </tr>\n",
       "  </thead>\n",
       "  <tbody>\n",
       "    <tr>\n",
       "      <th>2831</th>\n",
       "      <td>1196159</td>\n",
       "      <td>251</td>\n",
       "    </tr>\n",
       "  </tbody>\n",
       "</table>\n",
       "</div>"
      ],
      "text/plain": [
       "        HH_ID  ActualRevenue\n",
       "2831  1196159            251"
      ]
     },
     "execution_count": 4,
     "metadata": {},
     "output_type": "execute_result"
    }
   ],
   "source": [
    "\"\"\" Customers contributing to company 36's revenue in testing period \"\"\"\n",
    "lines_test = lines_all[lines_all.OrderDate>20070630]\n",
    "company = 36\n",
    "lines_test = lines_test[lines_test.CompanyID==company].groupby(by=[\"HH_ID\"])['Dollars'].sum().to_frame().sort_values(by=\"Dollars\",ascending=False).reset_index()\n",
    "lines_test.columns = [\"HH_ID\",\"ActualRevenue\"]\n",
    "print(len(lines_test))\n",
    "lines_test.sample(1)"
   ]
  },
  {
   "cell_type": "code",
   "execution_count": 6,
   "metadata": {
    "collapsed": false
   },
   "outputs": [
    {
     "name": "stdout",
     "output_type": "stream",
     "text": [
      "1950780\n"
     ]
    }
   ],
   "source": [
    "\"\"\" Recomended Customers sorted by worthiness (summed spending in training period)\"\"\"\n",
    "recommended_hh =df[df.HH_ID.isin(list(set(lines.HH_ID)-set(lines[lines.CompanyID==company].HH_ID)))]\n",
    "test_output  = pd.merge(recommended_hh,lines_test,how='left', on = [\"HH_ID\"])\n",
    "test_output[\"HH_ID\"] = test_output[\"HH_ID\"].astype(int).astype('str')\n",
    "test_output = test_output.fillna(0).sort_values(by=\"Dollars\",ascending=False).reset_index(drop=True)\n",
    "print(len(test_output))\n",
    "# Output to csv\n",
    "output_name = \"popularity_company_36.csv\"\n",
    "test_output.to_csv(output_name, index=False)"
   ]
  },
  {
   "cell_type": "code",
   "execution_count": 7,
   "metadata": {
    "collapsed": false
   },
   "outputs": [
    {
     "data": {
      "text/html": [
       "<div>\n",
       "<table border=\"1\" class=\"dataframe\">\n",
       "  <thead>\n",
       "    <tr style=\"text-align: right;\">\n",
       "      <th></th>\n",
       "      <th>Percentile</th>\n",
       "      <th>HH_Number</th>\n",
       "      <th>Mean_est_dol</th>\n",
       "      <th>Mean_actual_dol</th>\n",
       "    </tr>\n",
       "  </thead>\n",
       "  <tbody>\n",
       "    <tr>\n",
       "      <th>[0, 195077.9]</th>\n",
       "      <td>10</td>\n",
       "      <td>195078</td>\n",
       "      <td>2338.589364</td>\n",
       "      <td>1.131368</td>\n",
       "    </tr>\n",
       "    <tr>\n",
       "      <th>(195077.9, 390155.8]</th>\n",
       "      <td>20</td>\n",
       "      <td>195078</td>\n",
       "      <td>744.505613</td>\n",
       "      <td>0.927655</td>\n",
       "    </tr>\n",
       "    <tr>\n",
       "      <th>(390155.8, 585233.7]</th>\n",
       "      <td>30</td>\n",
       "      <td>195078</td>\n",
       "      <td>449.614329</td>\n",
       "      <td>0.725858</td>\n",
       "    </tr>\n",
       "    <tr>\n",
       "      <th>(585233.7, 780311.6]</th>\n",
       "      <td>40</td>\n",
       "      <td>195078</td>\n",
       "      <td>297.128313</td>\n",
       "      <td>0.639903</td>\n",
       "    </tr>\n",
       "    <tr>\n",
       "      <th>(780311.6, 975389.5]</th>\n",
       "      <td>50</td>\n",
       "      <td>195078</td>\n",
       "      <td>200.951855</td>\n",
       "      <td>0.538923</td>\n",
       "    </tr>\n",
       "    <tr>\n",
       "      <th>(975389.5, 1170467.4]</th>\n",
       "      <td>60</td>\n",
       "      <td>195078</td>\n",
       "      <td>138.062401</td>\n",
       "      <td>0.449220</td>\n",
       "    </tr>\n",
       "    <tr>\n",
       "      <th>(1170467.4, 1365545.3]</th>\n",
       "      <td>70</td>\n",
       "      <td>195078</td>\n",
       "      <td>94.431294</td>\n",
       "      <td>0.405448</td>\n",
       "    </tr>\n",
       "    <tr>\n",
       "      <th>(1365545.3, 1560623.2]</th>\n",
       "      <td>80</td>\n",
       "      <td>195078</td>\n",
       "      <td>62.782400</td>\n",
       "      <td>0.370247</td>\n",
       "    </tr>\n",
       "    <tr>\n",
       "      <th>(1560623.2, 1755701.1]</th>\n",
       "      <td>90</td>\n",
       "      <td>195078</td>\n",
       "      <td>38.815607</td>\n",
       "      <td>0.338603</td>\n",
       "    </tr>\n",
       "    <tr>\n",
       "      <th>(1755701.1, 1950779]</th>\n",
       "      <td>100</td>\n",
       "      <td>195078</td>\n",
       "      <td>18.871697</td>\n",
       "      <td>0.305006</td>\n",
       "    </tr>\n",
       "  </tbody>\n",
       "</table>\n",
       "</div>"
      ],
      "text/plain": [
       "                        Percentile  HH_Number  Mean_est_dol  Mean_actual_dol\n",
       "[0, 195077.9]                   10     195078   2338.589364         1.131368\n",
       "(195077.9, 390155.8]            20     195078    744.505613         0.927655\n",
       "(390155.8, 585233.7]            30     195078    449.614329         0.725858\n",
       "(585233.7, 780311.6]            40     195078    297.128313         0.639903\n",
       "(780311.6, 975389.5]            50     195078    200.951855         0.538923\n",
       "(975389.5, 1170467.4]           60     195078    138.062401         0.449220\n",
       "(1170467.4, 1365545.3]          70     195078     94.431294         0.405448\n",
       "(1365545.3, 1560623.2]          80     195078     62.782400         0.370247\n",
       "(1560623.2, 1755701.1]          90     195078     38.815607         0.338603\n",
       "(1755701.1, 1950779]           100     195078     18.871697         0.305006"
      ]
     },
     "execution_count": 7,
     "metadata": {},
     "output_type": "execute_result"
    }
   ],
   "source": [
    "\"\"\" Summary Statitics, Mean_est_dol refers to worthiness\"\"\"\n",
    "import numpy as np\n",
    "quant = [0,10,20,30,40,50,60,70,80,90,100]\n",
    "quant_est = np.percentile(test_output.index,quant)\n",
    "groups =  test_output.groupby(pd.cut(test_output.index, quant_est, include_lowest=True))\n",
    "df4 = groups.agg({\"HH_ID\": 'count', 'Dollars': 'mean', \"ActualRevenue\":'mean'})\n",
    "df4[\"percentile\"] = quant[1:]\n",
    "df4 = df4[[\"percentile\", \"HH_ID\",\"Dollars\",\"ActualRevenue\"]]\n",
    "# Output to csv\n",
    "df4.to_csv(\"summary_\"+output_name, index=False)\n",
    "measure = \"dol\"\n",
    "df4.columns = ['Percentile','HH_Number', 'Mean_est_'+measure, 'Mean_actual_'+measure, ]\n",
    "df4.loc[:,:]"
   ]
  },
  {
   "cell_type": "markdown",
   "metadata": {},
   "source": [
    "# \n",
    "## Recomender 2: Top 3 Area Popularity \n",
    "\n",
    "> recomend new customers by their weighted spending in the company's top 3 areas in the training period (30 months)"
   ]
  },
  {
   "cell_type": "code",
   "execution_count": 8,
   "metadata": {
    "collapsed": false
   },
   "outputs": [
    {
     "name": "stderr",
     "output_type": "stream",
     "text": [
      "C:\\Anaconda3\\lib\\site-packages\\pandas\\core\\generic.py:2701: SettingWithCopyWarning: \n",
      "A value is trying to be set on a copy of a slice from a DataFrame.\n",
      "Try using .loc[row_indexer,col_indexer] = value instead\n",
      "\n",
      "See the caveats in the documentation: http://pandas.pydata.org/pandas-docs/stable/indexing.html#indexing-view-versus-copy\n",
      "  self[name] = value\n",
      "C:\\Anaconda3\\lib\\site-packages\\ipykernel\\__main__.py:22: SettingWithCopyWarning: \n",
      "A value is trying to be set on a copy of a slice from a DataFrame.\n",
      "Try using .loc[row_indexer,col_indexer] = value instead\n",
      "\n",
      "See the caveats in the documentation: http://pandas.pydata.org/pandas-docs/stable/indexing.html#indexing-view-versus-copy\n"
     ]
    },
    {
     "name": "stdout",
     "output_type": "stream",
     "text": [
      "areas selected:  {'Entertainment': 0.097146353556051779, 'Fashion': 0.070041309490972731, 'Home & Garden': 0.70758843741750277}\n"
     ]
    },
    {
     "name": "stderr",
     "output_type": "stream",
     "text": [
      "C:\\Anaconda3\\lib\\site-packages\\ipykernel\\__main__.py:23: SettingWithCopyWarning: \n",
      "A value is trying to be set on a copy of a slice from a DataFrame.\n",
      "Try using .loc[row_indexer,col_indexer] = value instead\n",
      "\n",
      "See the caveats in the documentation: http://pandas.pydata.org/pandas-docs/stable/indexing.html#indexing-view-versus-copy\n",
      "C:\\Anaconda3\\lib\\site-packages\\ipykernel\\__main__.py:24: SettingWithCopyWarning: \n",
      "A value is trying to be set on a copy of a slice from a DataFrame.\n",
      "Try using .loc[row_indexer,col_indexer] = value instead\n",
      "\n",
      "See the caveats in the documentation: http://pandas.pydata.org/pandas-docs/stable/indexing.html#indexing-view-versus-copy\n"
     ]
    },
    {
     "data": {
      "text/html": [
       "<div>\n",
       "<table border=\"1\" class=\"dataframe\">\n",
       "  <thead>\n",
       "    <tr style=\"text-align: right;\">\n",
       "      <th>ProductArea</th>\n",
       "      <th>HH_ID</th>\n",
       "      <th>Dollars</th>\n",
       "    </tr>\n",
       "  </thead>\n",
       "  <tbody>\n",
       "    <tr>\n",
       "      <th>0</th>\n",
       "      <td>1</td>\n",
       "      <td>18.771071</td>\n",
       "    </tr>\n",
       "    <tr>\n",
       "      <th>1</th>\n",
       "      <td>3</td>\n",
       "      <td>12.117147</td>\n",
       "    </tr>\n",
       "  </tbody>\n",
       "</table>\n",
       "</div>"
      ],
      "text/plain": [
       "ProductArea  HH_ID    Dollars\n",
       "0                1  18.771071\n",
       "1                3  12.117147"
      ]
     },
     "execution_count": 8,
     "metadata": {},
     "output_type": "execute_result"
    }
   ],
   "source": [
    "\"\"\" Customers with spending in training period (weighted sum of top-area-spending)\"\"\"\n",
    "import re\n",
    "import numpy as np\n",
    "# Pivot by HH_ID and area, dollars\n",
    "lines.ProductArea = lines.ProductArea.apply(lambda s: s if s<10 else 10) # 10 product areas\n",
    "df_area = lines.groupby(by=[\"HH_ID\", \"ProductArea\"])['Dollars'].sum().to_frame().sort_values(by=\"Dollars\",ascending=False).reset_index()\n",
    "df_area_wide = df_area.pivot(index='HH_ID', columns='ProductArea', values='Dollars')\n",
    "df_area_wide = df_area_wide.replace(np.nan, 0, regex=True)\n",
    "# Find company's top n area\n",
    "perc_name = \"company_area_percentage.csv\"\n",
    "perc = pd.read_csv(perc_name)\n",
    "company = 36\n",
    "company_perc= perc[perc.CompanyID==company].drop([\"CompanyID\"], axis =1).iloc[0]\n",
    "topn = 3\n",
    "dict_ = company_perc.nlargest(topn).to_dict() # top (name, percentage) pair by percentage\n",
    "# Rename to true name and Match with Company's top\n",
    "area = pd.read_csv(\"area.csv\")\n",
    "df_area_wide.rename(columns=dict(zip(area.Code, area.Description)), inplace=True)\n",
    "selected_area = df_area_wide[list(dict_.keys())]\n",
    "# multiply by percentage\n",
    "for key in list(dict_.keys()):\n",
    "    selected_area[key] = selected_area[key]*dict_[key]\n",
    "selected_area[\"Dollars\"] = selected_area.sum(axis=1)\n",
    "selected_area[\"HH_ID\"] = selected_area.index\n",
    "selected_area = selected_area[[\"HH_ID\", \"Dollars\"]].reset_index(drop=True)\n",
    "print(\"areas selected: \", dict_)\n",
    "selected_area.head(2)"
   ]
  },
  {
   "cell_type": "code",
   "execution_count": 9,
   "metadata": {
    "collapsed": false
   },
   "outputs": [
    {
     "name": "stdout",
     "output_type": "stream",
     "text": [
      "1950780\n"
     ]
    }
   ],
   "source": [
    "\"\"\" Recomended Customers sorted by worthiness (weighted sum of top-area-spending in training period)\"\"\"\n",
    "recommended_hh_area =selected_area[selected_area.HH_ID.isin(list(set(lines.HH_ID)-set(lines[lines.CompanyID==company].HH_ID)))]\n",
    "test_output_area  = pd.merge(recommended_hh_area,lines_test,how='left', on = [\"HH_ID\"])\n",
    "test_output_area[\"HH_ID\"] = test_output_area[\"HH_ID\"].astype(int).astype('str')\n",
    "test_output_area = test_output_area.fillna(0).sort_values(by=\"Dollars\",ascending=False).reset_index(drop=True)\n",
    "print(len(test_output_area)) # total number of recommended customers\n",
    "# Output to csv\n",
    "output_name = \"popularity_company_36_area.csv\"\n",
    "test_output_area.to_csv(output_name, index=False)"
   ]
  },
  {
   "cell_type": "code",
   "execution_count": 11,
   "metadata": {
    "collapsed": false
   },
   "outputs": [
    {
     "data": {
      "text/html": [
       "<div>\n",
       "<table border=\"1\" class=\"dataframe\">\n",
       "  <thead>\n",
       "    <tr style=\"text-align: right;\">\n",
       "      <th></th>\n",
       "      <th>Percentile</th>\n",
       "      <th>HH_Number</th>\n",
       "      <th>Mean_est_dol</th>\n",
       "      <th>Mean_actual_dol</th>\n",
       "    </tr>\n",
       "  </thead>\n",
       "  <tbody>\n",
       "    <tr>\n",
       "      <th>[0, 195077.9]</th>\n",
       "      <td>10</td>\n",
       "      <td>195078</td>\n",
       "      <td>652.661707</td>\n",
       "      <td>1.202176</td>\n",
       "    </tr>\n",
       "    <tr>\n",
       "      <th>(195077.9, 390155.8]</th>\n",
       "      <td>20</td>\n",
       "      <td>195078</td>\n",
       "      <td>191.758918</td>\n",
       "      <td>0.976732</td>\n",
       "    </tr>\n",
       "    <tr>\n",
       "      <th>(390155.8, 585233.7]</th>\n",
       "      <td>30</td>\n",
       "      <td>195078</td>\n",
       "      <td>97.755830</td>\n",
       "      <td>0.849758</td>\n",
       "    </tr>\n",
       "    <tr>\n",
       "      <th>(585233.7, 780311.6]</th>\n",
       "      <td>40</td>\n",
       "      <td>195078</td>\n",
       "      <td>55.310940</td>\n",
       "      <td>0.659475</td>\n",
       "    </tr>\n",
       "    <tr>\n",
       "      <th>(780311.6, 975389.5]</th>\n",
       "      <td>50</td>\n",
       "      <td>195078</td>\n",
       "      <td>32.270684</td>\n",
       "      <td>0.523703</td>\n",
       "    </tr>\n",
       "    <tr>\n",
       "      <th>(975389.5, 1170467.4]</th>\n",
       "      <td>60</td>\n",
       "      <td>195078</td>\n",
       "      <td>18.811247</td>\n",
       "      <td>0.451102</td>\n",
       "    </tr>\n",
       "    <tr>\n",
       "      <th>(1170467.4, 1365545.3]</th>\n",
       "      <td>70</td>\n",
       "      <td>195078</td>\n",
       "      <td>10.429457</td>\n",
       "      <td>0.342176</td>\n",
       "    </tr>\n",
       "    <tr>\n",
       "      <th>(1365545.3, 1560623.2]</th>\n",
       "      <td>80</td>\n",
       "      <td>195078</td>\n",
       "      <td>5.225394</td>\n",
       "      <td>0.293093</td>\n",
       "    </tr>\n",
       "    <tr>\n",
       "      <th>(1560623.2, 1755701.1]</th>\n",
       "      <td>90</td>\n",
       "      <td>195078</td>\n",
       "      <td>2.101072</td>\n",
       "      <td>0.289489</td>\n",
       "    </tr>\n",
       "    <tr>\n",
       "      <th>(1755701.1, 1950779]</th>\n",
       "      <td>100</td>\n",
       "      <td>195078</td>\n",
       "      <td>0.019317</td>\n",
       "      <td>0.244528</td>\n",
       "    </tr>\n",
       "  </tbody>\n",
       "</table>\n",
       "</div>"
      ],
      "text/plain": [
       "                        Percentile  HH_Number  Mean_est_dol  Mean_actual_dol\n",
       "[0, 195077.9]                   10     195078    652.661707         1.202176\n",
       "(195077.9, 390155.8]            20     195078    191.758918         0.976732\n",
       "(390155.8, 585233.7]            30     195078     97.755830         0.849758\n",
       "(585233.7, 780311.6]            40     195078     55.310940         0.659475\n",
       "(780311.6, 975389.5]            50     195078     32.270684         0.523703\n",
       "(975389.5, 1170467.4]           60     195078     18.811247         0.451102\n",
       "(1170467.4, 1365545.3]          70     195078     10.429457         0.342176\n",
       "(1365545.3, 1560623.2]          80     195078      5.225394         0.293093\n",
       "(1560623.2, 1755701.1]          90     195078      2.101072         0.289489\n",
       "(1755701.1, 1950779]           100     195078      0.019317         0.244528"
      ]
     },
     "execution_count": 11,
     "metadata": {},
     "output_type": "execute_result"
    }
   ],
   "source": [
    "\"\"\" Summary Statitics, Mean_est_dol refers to worthiness\"\"\"\n",
    "import numpy as np\n",
    "quant = [0,10,20,30,40,50,60,70,80,90,100]\n",
    "quant_est = np.percentile(test_output.index,quant)\n",
    "groups =  test_output_area.groupby(pd.cut(test_output_area.index, quant_est, include_lowest=True))\n",
    "df4_area = groups.agg({\"HH_ID\": 'count', 'Dollars': 'mean', \"ActualRevenue\":'mean'})\n",
    "df4_area[\"percentile\"] = quant[1:]\n",
    "df4_area = df4_area[[\"percentile\", \"HH_ID\",\"Dollars\",\"ActualRevenue\"]]\n",
    "# Output to csv\n",
    "df4_area.to_csv(\"summary_\"+output_name, index=False)\n",
    "measure = \"dol\"\n",
    "df4_area.columns = ['Percentile','HH_Number', 'Mean_est_'+measure, 'Mean_actual_'+measure, ]\n",
    "df4_area.loc[:,:]"
   ]
  },
  {
   "cell_type": "markdown",
   "metadata": {},
   "source": [
    "# \n",
    "## Recomender 3: Top 10 Category Popularity \n",
    "\n",
    "> recomend new customers by their weighted spending in the company's top 10 subcategories in the training period (30 months)"
   ]
  },
  {
   "cell_type": "code",
   "execution_count": 12,
   "metadata": {
    "collapsed": false
   },
   "outputs": [
    {
     "name": "stderr",
     "output_type": "stream",
     "text": [
      "C:\\Anaconda3\\lib\\site-packages\\pandas\\core\\generic.py:2701: SettingWithCopyWarning: \n",
      "A value is trying to be set on a copy of a slice from a DataFrame.\n",
      "Try using .loc[row_indexer,col_indexer] = value instead\n",
      "\n",
      "See the caveats in the documentation: http://pandas.pydata.org/pandas-docs/stable/indexing.html#indexing-view-versus-copy\n",
      "  self[name] = value\n",
      "C:\\Anaconda3\\lib\\site-packages\\ipykernel\\__main__.py:21: SettingWithCopyWarning: \n",
      "A value is trying to be set on a copy of a slice from a DataFrame.\n",
      "Try using .loc[row_indexer,col_indexer] = value instead\n",
      "\n",
      "See the caveats in the documentation: http://pandas.pydata.org/pandas-docs/stable/indexing.html#indexing-view-versus-copy\n",
      "C:\\Anaconda3\\lib\\site-packages\\ipykernel\\__main__.py:22: SettingWithCopyWarning: \n",
      "A value is trying to be set on a copy of a slice from a DataFrame.\n",
      "Try using .loc[row_indexer,col_indexer] = value instead\n",
      "\n",
      "See the caveats in the documentation: http://pandas.pydata.org/pandas-docs/stable/indexing.html#indexing-view-versus-copy\n",
      "C:\\Anaconda3\\lib\\site-packages\\ipykernel\\__main__.py:23: SettingWithCopyWarning: \n",
      "A value is trying to be set on a copy of a slice from a DataFrame.\n",
      "Try using .loc[row_indexer,col_indexer] = value instead\n",
      "\n",
      "See the caveats in the documentation: http://pandas.pydata.org/pandas-docs/stable/indexing.html#indexing-view-versus-copy\n"
     ]
    },
    {
     "name": "stdout",
     "output_type": "stream",
     "text": [
      "categorys selected:  {\"Women's Apparel                   \": 0.048360193878892253, 'Home Decor                     ': 0.17271266909474856, 'Furniture                      ': 0.051784140487157015, 'Toys                              ': 0.048644389244467463, 'Household Items                ': 0.055067056532510913, 'Collectibles                   ': 0.037461684349412161, 'Crafts and Hobbies             ': 0.044141456386426484, 'Garden                         ': 0.06839373331433575, 'Patio & Yard                             ': 0.1006284368552017, 'Wall Decor                        ': 0.041450919927052264}\n"
     ]
    },
    {
     "data": {
      "text/html": [
       "<div>\n",
       "<table border=\"1\" class=\"dataframe\">\n",
       "  <thead>\n",
       "    <tr style=\"text-align: right;\">\n",
       "      <th>MajorCategory</th>\n",
       "      <th>HH_ID</th>\n",
       "      <th>Dollars</th>\n",
       "    </tr>\n",
       "  </thead>\n",
       "  <tbody>\n",
       "    <tr>\n",
       "      <th>0</th>\n",
       "      <td>1</td>\n",
       "      <td>12.090048</td>\n",
       "    </tr>\n",
       "    <tr>\n",
       "      <th>1</th>\n",
       "      <td>3</td>\n",
       "      <td>8.366314</td>\n",
       "    </tr>\n",
       "  </tbody>\n",
       "</table>\n",
       "</div>"
      ],
      "text/plain": [
       "MajorCategory  HH_ID    Dollars\n",
       "0                  1  12.090048\n",
       "1                  3   8.366314"
      ]
     },
     "execution_count": 12,
     "metadata": {},
     "output_type": "execute_result"
    }
   ],
   "source": [
    "\"\"\" Customers with spending in training period (weighted sum of top-category-spending)\"\"\"\n",
    "# Pivot by HH_ID and category, dollars\n",
    "lines.MajorCategory = lines.MajorCategory.apply(lambda s: s if s<73 else 2) # change 1 and 73 to 2\n",
    "lines.MajorCategory = lines.MajorCategory.apply(lambda s: s if s>1 else 2) # change 1 and 73 to 2\n",
    "df_category = lines.groupby(by=[\"HH_ID\", \"MajorCategory\"])['Dollars'].sum().to_frame().sort_values(by=\"Dollars\",ascending=False).reset_index()\n",
    "df_category_wide = df_category.pivot(index='HH_ID', columns='MajorCategory', values='Dollars')\n",
    "df_category_wide = df_category_wide.replace(np.nan, 0, regex=True)\n",
    "# Find company's top n category\n",
    "perc_name = \"company_category_percentage.csv\"\n",
    "perc = pd.read_csv(perc_name)\n",
    "company = 36\n",
    "company_perc= perc[perc.CompanyID==company].drop([\"CompanyID\"], axis =1).iloc[0]\n",
    "topn = 10\n",
    "dict_ = company_perc.nlargest(topn).to_dict() # top (name, percentage) pair by percentage\n",
    "# Rename to true name and Match with Company's top\n",
    "category = pd.read_csv(\"category.csv\")\n",
    "df_category_wide.rename(columns=dict(zip(category.Code, category.Description)), inplace=True)\n",
    "selected_category = df_category_wide[list(dict_.keys())]\n",
    "# multiply by percentage\n",
    "for key in list(dict_.keys()):\n",
    "    selected_category[key] = selected_category[key]*dict_[key]\n",
    "selected_category[\"Dollars\"] = selected_category.sum(axis=1)\n",
    "selected_category[\"HH_ID\"] = selected_category.index\n",
    "selected_category = selected_category[[\"HH_ID\", \"Dollars\"]].reset_index(drop=True)\n",
    "print(\"categorys selected: \", dict_)\n",
    "selected_category.head(2)"
   ]
  },
  {
   "cell_type": "code",
   "execution_count": 13,
   "metadata": {
    "collapsed": false
   },
   "outputs": [
    {
     "name": "stdout",
     "output_type": "stream",
     "text": [
      "1950780\n"
     ]
    }
   ],
   "source": [
    "\"\"\" Recomended Customers sorted by worthiness (weighted sum of top-category-spending in training period)\"\"\"\n",
    "recommended_hh_category =selected_category[selected_category.HH_ID.isin(list(set(lines.HH_ID)-set(lines[lines.CompanyID==company].HH_ID)))]\n",
    "test_output_category  = pd.merge(recommended_hh_category,lines_test,how='left', on = [\"HH_ID\"])\n",
    "test_output_category[\"HH_ID\"] = test_output_category[\"HH_ID\"].astype(int).astype('str')\n",
    "test_output_category = test_output_category.fillna(0).sort_values(by=\"Dollars\",ascending=False).reset_index(drop=True)\n",
    "print(len(test_output_category)) # total number of recommended customers\n",
    "# Output to csv\n",
    "output_name = \"popularity_company_36_category.csv\"\n",
    "test_output_category.to_csv(output_name, index=False)"
   ]
  },
  {
   "cell_type": "code",
   "execution_count": 14,
   "metadata": {
    "collapsed": false
   },
   "outputs": [
    {
     "data": {
      "text/html": [
       "<div>\n",
       "<table border=\"1\" class=\"dataframe\">\n",
       "  <thead>\n",
       "    <tr style=\"text-align: right;\">\n",
       "      <th></th>\n",
       "      <th>Percentile</th>\n",
       "      <th>HH_Number</th>\n",
       "      <th>Mean_est_dol</th>\n",
       "      <th>Mean_actual_dol</th>\n",
       "    </tr>\n",
       "  </thead>\n",
       "  <tbody>\n",
       "    <tr>\n",
       "      <th>[0, 195077.9]</th>\n",
       "      <td>10</td>\n",
       "      <td>195078</td>\n",
       "      <td>81.851451</td>\n",
       "      <td>1.170014</td>\n",
       "    </tr>\n",
       "    <tr>\n",
       "      <th>(195077.9, 390155.8]</th>\n",
       "      <td>20</td>\n",
       "      <td>195078</td>\n",
       "      <td>22.833590</td>\n",
       "      <td>0.862634</td>\n",
       "    </tr>\n",
       "    <tr>\n",
       "      <th>(390155.8, 585233.7]</th>\n",
       "      <td>30</td>\n",
       "      <td>195078</td>\n",
       "      <td>12.152169</td>\n",
       "      <td>0.774880</td>\n",
       "    </tr>\n",
       "    <tr>\n",
       "      <th>(585233.7, 780311.6]</th>\n",
       "      <td>40</td>\n",
       "      <td>195078</td>\n",
       "      <td>7.008429</td>\n",
       "      <td>0.647592</td>\n",
       "    </tr>\n",
       "    <tr>\n",
       "      <th>(780311.6, 975389.5]</th>\n",
       "      <td>50</td>\n",
       "      <td>195078</td>\n",
       "      <td>4.055805</td>\n",
       "      <td>0.541189</td>\n",
       "    </tr>\n",
       "    <tr>\n",
       "      <th>(975389.5, 1170467.4]</th>\n",
       "      <td>60</td>\n",
       "      <td>195078</td>\n",
       "      <td>2.149604</td>\n",
       "      <td>0.462389</td>\n",
       "    </tr>\n",
       "    <tr>\n",
       "      <th>(1170467.4, 1365545.3]</th>\n",
       "      <td>70</td>\n",
       "      <td>195078</td>\n",
       "      <td>0.759162</td>\n",
       "      <td>0.407345</td>\n",
       "    </tr>\n",
       "    <tr>\n",
       "      <th>(1365545.3, 1560623.2]</th>\n",
       "      <td>80</td>\n",
       "      <td>195078</td>\n",
       "      <td>0.000000</td>\n",
       "      <td>0.294636</td>\n",
       "    </tr>\n",
       "    <tr>\n",
       "      <th>(1560623.2, 1755701.1]</th>\n",
       "      <td>90</td>\n",
       "      <td>195078</td>\n",
       "      <td>0.000000</td>\n",
       "      <td>0.341612</td>\n",
       "    </tr>\n",
       "    <tr>\n",
       "      <th>(1755701.1, 1950779]</th>\n",
       "      <td>100</td>\n",
       "      <td>195078</td>\n",
       "      <td>0.000000</td>\n",
       "      <td>0.329940</td>\n",
       "    </tr>\n",
       "  </tbody>\n",
       "</table>\n",
       "</div>"
      ],
      "text/plain": [
       "                        Percentile  HH_Number  Mean_est_dol  Mean_actual_dol\n",
       "[0, 195077.9]                   10     195078     81.851451         1.170014\n",
       "(195077.9, 390155.8]            20     195078     22.833590         0.862634\n",
       "(390155.8, 585233.7]            30     195078     12.152169         0.774880\n",
       "(585233.7, 780311.6]            40     195078      7.008429         0.647592\n",
       "(780311.6, 975389.5]            50     195078      4.055805         0.541189\n",
       "(975389.5, 1170467.4]           60     195078      2.149604         0.462389\n",
       "(1170467.4, 1365545.3]          70     195078      0.759162         0.407345\n",
       "(1365545.3, 1560623.2]          80     195078      0.000000         0.294636\n",
       "(1560623.2, 1755701.1]          90     195078      0.000000         0.341612\n",
       "(1755701.1, 1950779]           100     195078      0.000000         0.329940"
      ]
     },
     "execution_count": 14,
     "metadata": {},
     "output_type": "execute_result"
    }
   ],
   "source": [
    "\"\"\" Summary Statitics, Mean_est_dol refers to worthiness\"\"\"\n",
    "import numpy as np\n",
    "quant = [0,10,20,30,40,50,60,70,80,90,100]\n",
    "quant_est = np.percentile(test_output.index,quant)\n",
    "groups =  test_output_category.groupby(pd.cut(test_output_category.index, quant_est, include_lowest=True))\n",
    "df4_category = groups.agg({\"HH_ID\": 'count', 'Dollars': 'mean', \"ActualRevenue\":'mean'})\n",
    "df4_category[\"percentile\"] = quant[1:]\n",
    "df4_category = df4_category[[\"percentile\", \"HH_ID\",\"Dollars\",\"ActualRevenue\"]]\n",
    "# Output to csv\n",
    "df4_category.to_csv(\"summary_\"+output_name, index=False)\n",
    "measure = \"dol\"\n",
    "df4_category.columns = ['Percentile','HH_Number', 'Mean_est_'+measure, 'Mean_actual_'+measure, ]\n",
    "df4_category.loc[:,:]"
   ]
  },
  {
   "cell_type": "markdown",
   "metadata": {
    "collapsed": true
   },
   "source": [
    "#### Plot accumulative average dollars vs number of potential customer recommeded\n"
   ]
  },
  {
   "cell_type": "code",
   "execution_count": 6,
   "metadata": {
    "collapsed": false
   },
   "outputs": [
    {
     "data": {
      "text/plain": [
       "<matplotlib.figure.Figure at 0x1f245f17ef0>"
      ]
     },
     "metadata": {},
     "output_type": "display_data"
    },
    {
     "data": {
      "image/png": "[encoded data removed]",
      "text/plain": [
       "<matplotlib.figure.Figure at 0x1f26ac83710>"
      ]
     },
     "metadata": {},
     "output_type": "display_data"
    }
   ],
   "source": [
    "%matplotlib inline\n",
    "import pandas as pd\n",
    "import matplotlib.pyplot as plt\n",
    "\n",
    "list_ = []\n",
    "score_names = [\"36\",\"36_category\",\"36_area\"]\n",
    "for score_name in score_names:\n",
    "    file_name = \"popularity_company_\"+ score_name + \".csv\"\n",
    "    predictions = pd.read_csv(file_name)\n",
    "    predictions =  predictions.join(predictions.groupby('Dollars')['ActualRevenue'].mean(), on='Dollars', rsuffix='Mean')    \n",
    "    # (Actual Revenue Mean) CumSum\n",
    "    score_name = score_name.replace(\"36\",\"popularity\") if score_name!=\"36\" else \"popularity_all\"\n",
    "    predictions[score_name] = predictions.ActualRevenueMean.cumsum()\n",
    "    list_.append(predictions[score_name])\n",
    "plt.figure()\n",
    "graph = pd.concat(list_, axis=1) ## (Actual Revenue Mean) CumSum\n",
    "graph.plot(title='Acquisition Profitability Graph')\n",
    "plt.xlabel('Number of HH_ID')\n",
    "plt.ylabel('Cumulative Revenue')\n",
    "plt.savefig(\"popularity_acquisition_profitability_curve.jpeg\")"
   ]
  },
  {
   "cell_type": "code",
   "execution_count": null,
   "metadata": {
    "collapsed": true
   },
   "outputs": [],
   "source": []
  }
 ],
 "metadata": {
  "anaconda-cloud": {},
  "kernelspec": {
   "display_name": "Python [Root]",
   "language": "python",
   "name": "Python [Root]"
  },
  "language_info": {
   "codemirror_mode": {
    "name": "ipython",
    "version": 3
   },
   "file_extension": ".py",
   "mimetype": "text/x-python",
   "name": "python",
   "nbconvert_exporter": "python",
   "pygments_lexer": "ipython3",
   "version": "3.5.2"
  }
 },
 "nbformat": 4,
 "nbformat_minor": 0
}
